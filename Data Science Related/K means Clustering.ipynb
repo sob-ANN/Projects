{
 "cells": [
  {
   "cell_type": "code",
   "execution_count": 1,
   "id": "32bfd842",
   "metadata": {},
   "outputs": [],
   "source": [
    "import numpy as np\n",
    "import pandas as pd\n",
    "import matplotlib.pyplot as plt"
   ]
  },
  {
   "cell_type": "code",
   "execution_count": 2,
   "id": "c2b060ef",
   "metadata": {},
   "outputs": [],
   "source": [
    "df = pd.read_csv('train4.csv')"
   ]
  },
  {
   "cell_type": "code",
   "execution_count": 3,
   "id": "635e1f67",
   "metadata": {},
   "outputs": [
    {
     "data": {
      "text/html": [
       "<div>\n",
       "<style scoped>\n",
       "    .dataframe tbody tr th:only-of-type {\n",
       "        vertical-align: middle;\n",
       "    }\n",
       "\n",
       "    .dataframe tbody tr th {\n",
       "        vertical-align: top;\n",
       "    }\n",
       "\n",
       "    .dataframe thead th {\n",
       "        text-align: right;\n",
       "    }\n",
       "</style>\n",
       "<table border=\"1\" class=\"dataframe\">\n",
       "  <thead>\n",
       "    <tr style=\"text-align: right;\">\n",
       "      <th></th>\n",
       "      <th>x1</th>\n",
       "      <th>x2</th>\n",
       "      <th>x3</th>\n",
       "      <th>x4</th>\n",
       "      <th>x5</th>\n",
       "      <th>x6</th>\n",
       "      <th>x7</th>\n",
       "      <th>x8</th>\n",
       "      <th>x9</th>\n",
       "      <th>x10</th>\n",
       "      <th>...</th>\n",
       "      <th>x776</th>\n",
       "      <th>x777</th>\n",
       "      <th>x778</th>\n",
       "      <th>x779</th>\n",
       "      <th>x780</th>\n",
       "      <th>x781</th>\n",
       "      <th>x782</th>\n",
       "      <th>x783</th>\n",
       "      <th>x784</th>\n",
       "      <th>t</th>\n",
       "    </tr>\n",
       "  </thead>\n",
       "  <tbody>\n",
       "    <tr>\n",
       "      <th>0</th>\n",
       "      <td>0</td>\n",
       "      <td>0</td>\n",
       "      <td>0</td>\n",
       "      <td>0</td>\n",
       "      <td>0</td>\n",
       "      <td>0</td>\n",
       "      <td>0</td>\n",
       "      <td>0</td>\n",
       "      <td>0</td>\n",
       "      <td>0</td>\n",
       "      <td>...</td>\n",
       "      <td>0</td>\n",
       "      <td>0</td>\n",
       "      <td>0</td>\n",
       "      <td>0</td>\n",
       "      <td>0</td>\n",
       "      <td>0</td>\n",
       "      <td>0</td>\n",
       "      <td>0</td>\n",
       "      <td>0</td>\n",
       "      <td>0</td>\n",
       "    </tr>\n",
       "    <tr>\n",
       "      <th>1</th>\n",
       "      <td>0</td>\n",
       "      <td>0</td>\n",
       "      <td>0</td>\n",
       "      <td>0</td>\n",
       "      <td>0</td>\n",
       "      <td>0</td>\n",
       "      <td>0</td>\n",
       "      <td>0</td>\n",
       "      <td>0</td>\n",
       "      <td>0</td>\n",
       "      <td>...</td>\n",
       "      <td>0</td>\n",
       "      <td>0</td>\n",
       "      <td>0</td>\n",
       "      <td>0</td>\n",
       "      <td>0</td>\n",
       "      <td>0</td>\n",
       "      <td>0</td>\n",
       "      <td>0</td>\n",
       "      <td>0</td>\n",
       "      <td>0</td>\n",
       "    </tr>\n",
       "    <tr>\n",
       "      <th>2</th>\n",
       "      <td>0</td>\n",
       "      <td>0</td>\n",
       "      <td>0</td>\n",
       "      <td>0</td>\n",
       "      <td>0</td>\n",
       "      <td>0</td>\n",
       "      <td>0</td>\n",
       "      <td>0</td>\n",
       "      <td>0</td>\n",
       "      <td>0</td>\n",
       "      <td>...</td>\n",
       "      <td>0</td>\n",
       "      <td>0</td>\n",
       "      <td>0</td>\n",
       "      <td>0</td>\n",
       "      <td>0</td>\n",
       "      <td>0</td>\n",
       "      <td>0</td>\n",
       "      <td>0</td>\n",
       "      <td>0</td>\n",
       "      <td>0</td>\n",
       "    </tr>\n",
       "    <tr>\n",
       "      <th>3</th>\n",
       "      <td>0</td>\n",
       "      <td>0</td>\n",
       "      <td>0</td>\n",
       "      <td>0</td>\n",
       "      <td>0</td>\n",
       "      <td>0</td>\n",
       "      <td>0</td>\n",
       "      <td>0</td>\n",
       "      <td>0</td>\n",
       "      <td>0</td>\n",
       "      <td>...</td>\n",
       "      <td>0</td>\n",
       "      <td>0</td>\n",
       "      <td>0</td>\n",
       "      <td>0</td>\n",
       "      <td>0</td>\n",
       "      <td>0</td>\n",
       "      <td>0</td>\n",
       "      <td>0</td>\n",
       "      <td>0</td>\n",
       "      <td>0</td>\n",
       "    </tr>\n",
       "    <tr>\n",
       "      <th>4</th>\n",
       "      <td>0</td>\n",
       "      <td>0</td>\n",
       "      <td>0</td>\n",
       "      <td>0</td>\n",
       "      <td>0</td>\n",
       "      <td>0</td>\n",
       "      <td>0</td>\n",
       "      <td>0</td>\n",
       "      <td>0</td>\n",
       "      <td>0</td>\n",
       "      <td>...</td>\n",
       "      <td>0</td>\n",
       "      <td>0</td>\n",
       "      <td>0</td>\n",
       "      <td>0</td>\n",
       "      <td>0</td>\n",
       "      <td>0</td>\n",
       "      <td>0</td>\n",
       "      <td>0</td>\n",
       "      <td>0</td>\n",
       "      <td>0</td>\n",
       "    </tr>\n",
       "  </tbody>\n",
       "</table>\n",
       "<p>5 rows × 785 columns</p>\n",
       "</div>"
      ],
      "text/plain": [
       "   x1  x2  x3  x4  x5  x6  x7  x8  x9  x10  ...  x776  x777  x778  x779  x780  \\\n",
       "0   0   0   0   0   0   0   0   0   0    0  ...     0     0     0     0     0   \n",
       "1   0   0   0   0   0   0   0   0   0    0  ...     0     0     0     0     0   \n",
       "2   0   0   0   0   0   0   0   0   0    0  ...     0     0     0     0     0   \n",
       "3   0   0   0   0   0   0   0   0   0    0  ...     0     0     0     0     0   \n",
       "4   0   0   0   0   0   0   0   0   0    0  ...     0     0     0     0     0   \n",
       "\n",
       "   x781  x782  x783  x784  t  \n",
       "0     0     0     0     0  0  \n",
       "1     0     0     0     0  0  \n",
       "2     0     0     0     0  0  \n",
       "3     0     0     0     0  0  \n",
       "4     0     0     0     0  0  \n",
       "\n",
       "[5 rows x 785 columns]"
      ]
     },
     "execution_count": 3,
     "metadata": {},
     "output_type": "execute_result"
    }
   ],
   "source": [
    "df.head()"
   ]
  },
  {
   "cell_type": "code",
   "execution_count": 4,
   "id": "68fc3db8",
   "metadata": {},
   "outputs": [],
   "source": [
    "X = df.drop('t' , axis='columns')\n",
    "y = df.pop('t')"
   ]
  },
  {
   "cell_type": "code",
   "execution_count": 5,
   "id": "294e9107",
   "metadata": {},
   "outputs": [],
   "source": [
    "from sklearn.cluster import KMeans"
   ]
  },
  {
   "cell_type": "code",
   "execution_count": 6,
   "id": "d511d1b0",
   "metadata": {},
   "outputs": [],
   "source": [
    "kmeans = KMeans(n_clusters=10, random_state=0,n_init=10, max_iter=300, \n",
    "    tol=1e-04).fit(X)\n",
    "lab = kmeans.labels_"
   ]
  },
  {
   "cell_type": "code",
   "execution_count": 7,
   "id": "c7c6f864",
   "metadata": {},
   "outputs": [],
   "source": [
    "zero=[]\n",
    "for i in range(3000):\n",
    "    if lab[i]==0:\n",
    "        z = y[i]\n",
    "        \n",
    "        zero.append(z)"
   ]
  },
  {
   "cell_type": "code",
   "execution_count": 8,
   "id": "4e7a2db5",
   "metadata": {},
   "outputs": [],
   "source": [
    "def most_frequent(List):\n",
    "    counter = 0\n",
    "    num = List[0]\n",
    "     \n",
    "    for i in List:\n",
    "        curr_frequency = List.count(i)\n",
    "        if(curr_frequency> counter):\n",
    "            counter = curr_frequency\n",
    "            num = i\n",
    " \n",
    "    return num"
   ]
  },
  {
   "cell_type": "code",
   "execution_count": null,
   "id": "2927f24d",
   "metadata": {},
   "outputs": [],
   "source": []
  },
  {
   "cell_type": "code",
   "execution_count": 9,
   "id": "d0ab42c0",
   "metadata": {},
   "outputs": [
    {
     "name": "stdout",
     "output_type": "stream",
     "text": [
      "9\n"
     ]
    }
   ],
   "source": [
    "print(most_frequent(zero))"
   ]
  },
  {
   "cell_type": "markdown",
   "id": "3fe8af66",
   "metadata": {},
   "source": [
    "Label 0 is 9"
   ]
  },
  {
   "cell_type": "code",
   "execution_count": 10,
   "id": "18e5c39b",
   "metadata": {},
   "outputs": [],
   "source": [
    "k=0\n",
    "for i in range(3000):\n",
    "    if lab[i]==0:\n",
    "        if y[i]==9:\n",
    "            k = k + 1\n",
    "        \n",
    "        "
   ]
  },
  {
   "cell_type": "code",
   "execution_count": 11,
   "id": "566016b1",
   "metadata": {},
   "outputs": [
    {
     "data": {
      "text/plain": [
       "138"
      ]
     },
     "execution_count": 11,
     "metadata": {},
     "output_type": "execute_result"
    }
   ],
   "source": [
    "k"
   ]
  },
  {
   "cell_type": "code",
   "execution_count": 12,
   "id": "56f6c379",
   "metadata": {},
   "outputs": [
    {
     "data": {
      "text/plain": [
       "359"
      ]
     },
     "execution_count": 12,
     "metadata": {},
     "output_type": "execute_result"
    }
   ],
   "source": [
    "np.size(zero)"
   ]
  },
  {
   "cell_type": "code",
   "execution_count": 13,
   "id": "954acea3",
   "metadata": {},
   "outputs": [],
   "source": [
    "one=[]\n",
    "for i in range(3000):\n",
    "    if lab[i]==1:\n",
    "        z = y[i]\n",
    "        #print(i)\n",
    "        one.append(z)"
   ]
  },
  {
   "cell_type": "code",
   "execution_count": 22,
   "id": "5bf6b659",
   "metadata": {},
   "outputs": [
    {
     "data": {
      "text/plain": [
       "<matplotlib.image.AxesImage at 0x266804fa820>"
      ]
     },
     "execution_count": 22,
     "metadata": {},
     "output_type": "execute_result"
    },
    {
     "data": {
      "image/png": "[encoded data removed]",
      "text/plain": [
       "<Figure size 640x480 with 1 Axes>"
      ]
     },
     "metadata": {},
     "output_type": "display_data"
    }
   ],
   "source": [
    "plt.imshow(x[2679].reshape((28,28)))"
   ]
  },
  {
   "cell_type": "code",
   "execution_count": 14,
   "id": "65bbde49",
   "metadata": {},
   "outputs": [
    {
     "name": "stdout",
     "output_type": "stream",
     "text": [
      "2\n"
     ]
    }
   ],
   "source": [
    "print(most_frequent(one))"
   ]
  },
  {
   "cell_type": "markdown",
   "id": "099aab70",
   "metadata": {},
   "source": [
    "Label 1 is 2"
   ]
  },
  {
   "cell_type": "code",
   "execution_count": 15,
   "id": "d892b7f8",
   "metadata": {},
   "outputs": [],
   "source": [
    "k=0\n",
    "for i in range(3000):\n",
    "    if lab[i]==1:\n",
    "        if y[i]==2:\n",
    "            k = k + 1\n",
    "        \n",
    "        "
   ]
  },
  {
   "cell_type": "code",
   "execution_count": 16,
   "id": "4a35460f",
   "metadata": {},
   "outputs": [
    {
     "data": {
      "text/plain": [
       "212"
      ]
     },
     "execution_count": 16,
     "metadata": {},
     "output_type": "execute_result"
    }
   ],
   "source": [
    "k"
   ]
  },
  {
   "cell_type": "code",
   "execution_count": 17,
   "id": "90e22a11",
   "metadata": {},
   "outputs": [
    {
     "data": {
      "text/plain": [
       "224"
      ]
     },
     "execution_count": 17,
     "metadata": {},
     "output_type": "execute_result"
    }
   ],
   "source": [
    "np.size(one)"
   ]
  },
  {
   "cell_type": "code",
   "execution_count": 78,
   "id": "137bfb04",
   "metadata": {},
   "outputs": [],
   "source": [
    "two=[]\n",
    "for i in range(3000):\n",
    "    if lab[i]==2:\n",
    "        z = y[i]\n",
    "        two.append(z)"
   ]
  },
  {
   "cell_type": "code",
   "execution_count": 79,
   "id": "6291ade0",
   "metadata": {},
   "outputs": [
    {
     "name": "stdout",
     "output_type": "stream",
     "text": [
      "3\n"
     ]
    }
   ],
   "source": [
    "print(most_frequent(two))"
   ]
  },
  {
   "cell_type": "markdown",
   "id": "01d40c35",
   "metadata": {},
   "source": [
    "Label 2 is 3"
   ]
  },
  {
   "cell_type": "code",
   "execution_count": 117,
   "id": "614d8efa",
   "metadata": {},
   "outputs": [],
   "source": [
    "k=0\n",
    "for i in range(3000):\n",
    "    if lab[i]==2:\n",
    "        if y[i]==3:\n",
    "            k = k + 1\n",
    "        \n",
    "        "
   ]
  },
  {
   "cell_type": "code",
   "execution_count": 118,
   "id": "41d3de83",
   "metadata": {},
   "outputs": [
    {
     "data": {
      "text/plain": [
       "198"
      ]
     },
     "execution_count": 118,
     "metadata": {},
     "output_type": "execute_result"
    }
   ],
   "source": [
    "k"
   ]
  },
  {
   "cell_type": "code",
   "execution_count": 120,
   "id": "a1ab5728",
   "metadata": {},
   "outputs": [
    {
     "data": {
      "text/plain": [
       "361"
      ]
     },
     "execution_count": 120,
     "metadata": {},
     "output_type": "execute_result"
    }
   ],
   "source": [
    "np.size(two)"
   ]
  },
  {
   "cell_type": "code",
   "execution_count": 80,
   "id": "a90bac3b",
   "metadata": {},
   "outputs": [],
   "source": [
    "three=[]\n",
    "for i in range(3000):\n",
    "    if lab[i]==3:\n",
    "        z = y[i]\n",
    "        three.append(z)"
   ]
  },
  {
   "cell_type": "code",
   "execution_count": 81,
   "id": "8a44a896",
   "metadata": {},
   "outputs": [
    {
     "name": "stdout",
     "output_type": "stream",
     "text": [
      "6\n"
     ]
    }
   ],
   "source": [
    "print(most_frequent(three))"
   ]
  },
  {
   "cell_type": "markdown",
   "id": "bf9676cd",
   "metadata": {},
   "source": [
    "Label 3 is 6"
   ]
  },
  {
   "cell_type": "code",
   "execution_count": 121,
   "id": "acda9f97",
   "metadata": {},
   "outputs": [
    {
     "data": {
      "text/plain": [
       "222"
      ]
     },
     "execution_count": 121,
     "metadata": {},
     "output_type": "execute_result"
    }
   ],
   "source": [
    "k=0\n",
    "for i in range(3000):\n",
    "    if lab[i]==3:\n",
    "        if y[i]==6:\n",
    "            k = k + 1\n",
    "\n",
    "k\n",
    "        "
   ]
  },
  {
   "cell_type": "code",
   "execution_count": 122,
   "id": "2ed4117a",
   "metadata": {},
   "outputs": [
    {
     "data": {
      "text/plain": [
       "262"
      ]
     },
     "execution_count": 122,
     "metadata": {},
     "output_type": "execute_result"
    }
   ],
   "source": [
    "np.size(three)"
   ]
  },
  {
   "cell_type": "code",
   "execution_count": 82,
   "id": "2fc876d7",
   "metadata": {},
   "outputs": [],
   "source": [
    "four=[]\n",
    "for i in range(3000):\n",
    "    if lab[i]==4:\n",
    "        z = y[i]\n",
    "        four.append(z)"
   ]
  },
  {
   "cell_type": "code",
   "execution_count": 83,
   "id": "12bcd51c",
   "metadata": {},
   "outputs": [
    {
     "name": "stdout",
     "output_type": "stream",
     "text": [
      "8\n"
     ]
    }
   ],
   "source": [
    "print(most_frequent(four))"
   ]
  },
  {
   "cell_type": "markdown",
   "id": "2ece64ea",
   "metadata": {},
   "source": [
    "Label 4 is 8"
   ]
  },
  {
   "cell_type": "code",
   "execution_count": 124,
   "id": "f80a4b2a",
   "metadata": {},
   "outputs": [
    {
     "data": {
      "text/plain": [
       "194"
      ]
     },
     "execution_count": 124,
     "metadata": {},
     "output_type": "execute_result"
    }
   ],
   "source": [
    "k=0\n",
    "for i in range(3000):\n",
    "    if lab[i]==4:\n",
    "        if y[i]==8:\n",
    "            k = k + 1\n",
    "k\n",
    "        "
   ]
  },
  {
   "cell_type": "code",
   "execution_count": 125,
   "id": "a395e4ca",
   "metadata": {},
   "outputs": [
    {
     "data": {
      "text/plain": [
       "350"
      ]
     },
     "execution_count": 125,
     "metadata": {},
     "output_type": "execute_result"
    }
   ],
   "source": [
    "np.size(four)"
   ]
  },
  {
   "cell_type": "code",
   "execution_count": 123,
   "id": "a65cff88",
   "metadata": {},
   "outputs": [],
   "source": [
    "five=[]\n",
    "for i in range(3000):\n",
    "    if lab[i]==5:\n",
    "        z = y[i]\n",
    "        #print(i)\n",
    "        five.append(z)"
   ]
  },
  {
   "cell_type": "code",
   "execution_count": 104,
   "id": "d2024727",
   "metadata": {},
   "outputs": [
    {
     "data": {
      "text/plain": [
       "<matplotlib.image.AxesImage at 0x29c41b5a340>"
      ]
     },
     "execution_count": 104,
     "metadata": {},
     "output_type": "execute_result"
    },
    {
     "data": {
      "image/png": "[encoded data removed]",
      "text/plain": [
       "<Figure size 640x480 with 1 Axes>"
      ]
     },
     "metadata": {},
     "output_type": "display_data"
    }
   ],
   "source": [
    "plt.imshow(x[293].reshape((28,28)))"
   ]
  },
  {
   "cell_type": "code",
   "execution_count": 105,
   "id": "2d2c0134",
   "metadata": {},
   "outputs": [
    {
     "data": {
      "text/plain": [
       "<matplotlib.image.AxesImage at 0x29c41bbc3d0>"
      ]
     },
     "execution_count": 105,
     "metadata": {},
     "output_type": "execute_result"
    },
    {
     "data": {
      "image/png": "[encoded data removed]",
      "text/plain": [
       "<Figure size 640x480 with 1 Axes>"
      ]
     },
     "metadata": {},
     "output_type": "display_data"
    }
   ],
   "source": [
    "plt.imshow(x[833].reshape((28,28)))"
   ]
  },
  {
   "cell_type": "code",
   "execution_count": 106,
   "id": "f3fc4606",
   "metadata": {},
   "outputs": [
    {
     "data": {
      "text/plain": [
       "<matplotlib.image.AxesImage at 0x29c41c29370>"
      ]
     },
     "execution_count": 106,
     "metadata": {},
     "output_type": "execute_result"
    },
    {
     "data": {
      "image/png": "[encoded data removed]",
      "text/plain": [
       "<Figure size 640x480 with 1 Axes>"
      ]
     },
     "metadata": {},
     "output_type": "display_data"
    }
   ],
   "source": [
    "plt.imshow(x[1664].reshape((28,28)))"
   ]
  },
  {
   "cell_type": "code",
   "execution_count": 85,
   "id": "43b2f8a7",
   "metadata": {},
   "outputs": [
    {
     "name": "stdout",
     "output_type": "stream",
     "text": [
      "0\n"
     ]
    }
   ],
   "source": [
    "print(most_frequent(five))"
   ]
  },
  {
   "cell_type": "code",
   "execution_count": null,
   "id": "203c1a9b",
   "metadata": {},
   "outputs": [],
   "source": []
  },
  {
   "cell_type": "markdown",
   "id": "f407cbff",
   "metadata": {},
   "source": [
    "Label 5 is 0"
   ]
  },
  {
   "cell_type": "code",
   "execution_count": 126,
   "id": "7716a25f",
   "metadata": {},
   "outputs": [
    {
     "data": {
      "text/plain": [
       "130"
      ]
     },
     "execution_count": 126,
     "metadata": {},
     "output_type": "execute_result"
    }
   ],
   "source": [
    "k=0\n",
    "for i in range(3000):\n",
    "    if lab[i]==5:\n",
    "        if y[i]==0:\n",
    "            k = k + 1\n",
    "k      \n",
    "        "
   ]
  },
  {
   "cell_type": "code",
   "execution_count": 127,
   "id": "d6d780fe",
   "metadata": {},
   "outputs": [
    {
     "data": {
      "text/plain": [
       "168"
      ]
     },
     "execution_count": 127,
     "metadata": {},
     "output_type": "execute_result"
    }
   ],
   "source": [
    "np.size(five)"
   ]
  },
  {
   "cell_type": "code",
   "execution_count": 86,
   "id": "19204fb3",
   "metadata": {},
   "outputs": [],
   "source": [
    "six=[]\n",
    "for i in range(3000):\n",
    "    if lab[i]==6:\n",
    "        z = y[i]\n",
    "        six.append(z)"
   ]
  },
  {
   "cell_type": "code",
   "execution_count": 87,
   "id": "3b4a2b4e",
   "metadata": {},
   "outputs": [
    {
     "name": "stdout",
     "output_type": "stream",
     "text": [
      "1\n"
     ]
    }
   ],
   "source": [
    "print(most_frequent(six))"
   ]
  },
  {
   "cell_type": "markdown",
   "id": "e4c31bf5",
   "metadata": {},
   "source": [
    "Label 6 is 1"
   ]
  },
  {
   "cell_type": "code",
   "execution_count": 129,
   "id": "568c97f0",
   "metadata": {},
   "outputs": [
    {
     "data": {
      "text/plain": [
       "294"
      ]
     },
     "execution_count": 129,
     "metadata": {},
     "output_type": "execute_result"
    }
   ],
   "source": [
    "k=0\n",
    "for i in range(3000):\n",
    "    if lab[i]==6:\n",
    "        if y[i]==1:\n",
    "            k = k + 1\n",
    "        \n",
    "k    "
   ]
  },
  {
   "cell_type": "code",
   "execution_count": 130,
   "id": "c2efb1cd",
   "metadata": {},
   "outputs": [
    {
     "data": {
      "text/plain": [
       "472"
      ]
     },
     "execution_count": 130,
     "metadata": {},
     "output_type": "execute_result"
    }
   ],
   "source": [
    "np.size(six)"
   ]
  },
  {
   "cell_type": "code",
   "execution_count": 11,
   "id": "ca6d2134",
   "metadata": {},
   "outputs": [
    {
     "name": "stdout",
     "output_type": "stream",
     "text": [
      "0\n",
      "2\n",
      "3\n",
      "7\n",
      "8\n",
      "11\n",
      "14\n",
      "16\n",
      "17\n",
      "18\n",
      "20\n",
      "21\n",
      "22\n",
      "23\n",
      "25\n",
      "26\n",
      "29\n",
      "31\n",
      "32\n",
      "34\n",
      "35\n",
      "36\n",
      "39\n",
      "41\n",
      "42\n",
      "48\n",
      "49\n",
      "50\n",
      "51\n",
      "52\n",
      "53\n",
      "56\n",
      "58\n",
      "59\n",
      "60\n",
      "61\n",
      "62\n",
      "64\n",
      "67\n",
      "69\n",
      "72\n",
      "73\n",
      "76\n",
      "79\n",
      "80\n",
      "83\n",
      "84\n",
      "87\n",
      "92\n",
      "94\n",
      "95\n",
      "98\n",
      "101\n",
      "102\n",
      "103\n",
      "107\n",
      "108\n",
      "110\n",
      "113\n",
      "114\n",
      "116\n",
      "119\n",
      "122\n",
      "123\n",
      "124\n",
      "128\n",
      "130\n",
      "132\n",
      "133\n",
      "135\n",
      "136\n",
      "137\n",
      "140\n",
      "141\n",
      "142\n",
      "149\n",
      "150\n",
      "153\n",
      "156\n",
      "158\n",
      "159\n",
      "160\n",
      "161\n",
      "162\n",
      "165\n",
      "166\n",
      "167\n",
      "172\n",
      "178\n",
      "180\n",
      "186\n",
      "188\n",
      "189\n",
      "190\n",
      "192\n",
      "193\n",
      "194\n",
      "195\n",
      "196\n",
      "197\n",
      "198\n",
      "200\n",
      "205\n",
      "207\n",
      "208\n",
      "209\n",
      "211\n",
      "213\n",
      "214\n",
      "215\n",
      "217\n",
      "219\n",
      "220\n",
      "225\n",
      "227\n",
      "228\n",
      "232\n",
      "233\n",
      "235\n",
      "236\n",
      "237\n",
      "244\n",
      "245\n",
      "250\n",
      "251\n",
      "253\n",
      "255\n",
      "258\n",
      "259\n",
      "260\n",
      "262\n",
      "263\n",
      "265\n",
      "270\n",
      "272\n",
      "275\n",
      "281\n",
      "282\n",
      "284\n",
      "290\n",
      "294\n",
      "299\n",
      "785\n",
      "1551\n",
      "1593\n",
      "1740\n",
      "1829\n",
      "1878\n",
      "2056\n",
      "2103\n",
      "2513\n",
      "2682\n",
      "2692\n"
     ]
    }
   ],
   "source": [
    "seven=[]\n",
    "for i in range(3000):\n",
    "    if lab[i]==7:\n",
    "        z = y[i]\n",
    "        print(i)\n",
    "        seven.append(z)"
   ]
  },
  {
   "cell_type": "code",
   "execution_count": 89,
   "id": "372d03f0",
   "metadata": {},
   "outputs": [
    {
     "name": "stdout",
     "output_type": "stream",
     "text": [
      "0\n"
     ]
    }
   ],
   "source": [
    "print(most_frequent(seven))"
   ]
  },
  {
   "cell_type": "code",
   "execution_count": 17,
   "id": "d3dde557",
   "metadata": {},
   "outputs": [
    {
     "data": {
      "text/plain": [
       "<matplotlib.image.AxesImage at 0x266802ea8b0>"
      ]
     },
     "execution_count": 17,
     "metadata": {},
     "output_type": "execute_result"
    },
    {
     "data": {
      "image/png": "[encoded data removed]",
      "text/plain": [
       "<Figure size 640x480 with 1 Axes>"
      ]
     },
     "metadata": {},
     "output_type": "display_data"
    }
   ],
   "source": [
    "plt.imshow(x[2692].reshape((28,28)))"
   ]
  },
  {
   "cell_type": "markdown",
   "id": "71e7878a",
   "metadata": {},
   "source": [
    "Label 7 is also 0?"
   ]
  },
  {
   "cell_type": "code",
   "execution_count": 131,
   "id": "1f537691",
   "metadata": {},
   "outputs": [
    {
     "data": {
      "text/plain": [
       "142"
      ]
     },
     "execution_count": 131,
     "metadata": {},
     "output_type": "execute_result"
    }
   ],
   "source": [
    "k=0\n",
    "for i in range(3000):\n",
    "    if lab[i]==7:\n",
    "        if y[i]==0:\n",
    "            k = k + 1\n",
    "k     \n",
    "        "
   ]
  },
  {
   "cell_type": "code",
   "execution_count": 132,
   "id": "d4e1f1f0",
   "metadata": {},
   "outputs": [
    {
     "data": {
      "text/plain": [
       "153"
      ]
     },
     "execution_count": 132,
     "metadata": {},
     "output_type": "execute_result"
    }
   ],
   "source": [
    "np.size(seven)"
   ]
  },
  {
   "cell_type": "code",
   "execution_count": 90,
   "id": "1c7f48c7",
   "metadata": {},
   "outputs": [],
   "source": [
    "eight=[]\n",
    "for i in range(3000):\n",
    "    if lab[i]==8:\n",
    "        z = y[i]\n",
    "        eight.append(z)"
   ]
  },
  {
   "cell_type": "code",
   "execution_count": 91,
   "id": "243f92d6",
   "metadata": {},
   "outputs": [
    {
     "name": "stdout",
     "output_type": "stream",
     "text": [
      "4\n"
     ]
    }
   ],
   "source": [
    "print(most_frequent(eight))"
   ]
  },
  {
   "cell_type": "markdown",
   "id": "40b6a432",
   "metadata": {},
   "source": [
    "Label 8 is 4"
   ]
  },
  {
   "cell_type": "code",
   "execution_count": 133,
   "id": "4aaa29dd",
   "metadata": {},
   "outputs": [
    {
     "data": {
      "text/plain": [
       "124"
      ]
     },
     "execution_count": 133,
     "metadata": {},
     "output_type": "execute_result"
    }
   ],
   "source": [
    "k=0\n",
    "for i in range(3000):\n",
    "    if lab[i]==8:\n",
    "        if y[i]==4:\n",
    "            k = k + 1\n",
    "k      \n",
    "        "
   ]
  },
  {
   "cell_type": "code",
   "execution_count": 134,
   "id": "5a4d2fe6",
   "metadata": {},
   "outputs": [
    {
     "data": {
      "text/plain": [
       "297"
      ]
     },
     "execution_count": 134,
     "metadata": {},
     "output_type": "execute_result"
    }
   ],
   "source": [
    "np.size(eight)"
   ]
  },
  {
   "cell_type": "code",
   "execution_count": 92,
   "id": "028bc00c",
   "metadata": {},
   "outputs": [],
   "source": [
    "nine=[]\n",
    "for i in range(3000):\n",
    "    if lab[i]==9:\n",
    "        z = y[i]\n",
    "        nine.append(z)"
   ]
  },
  {
   "cell_type": "code",
   "execution_count": 93,
   "id": "28b41db9",
   "metadata": {},
   "outputs": [
    {
     "name": "stdout",
     "output_type": "stream",
     "text": [
      "7\n"
     ]
    }
   ],
   "source": [
    "print(most_frequent(nine))"
   ]
  },
  {
   "cell_type": "markdown",
   "id": "de15cb3a",
   "metadata": {},
   "source": [
    "Label 9 is 7"
   ]
  },
  {
   "cell_type": "code",
   "execution_count": 135,
   "id": "cd36e094",
   "metadata": {},
   "outputs": [
    {
     "data": {
      "text/plain": [
       "167"
      ]
     },
     "execution_count": 135,
     "metadata": {},
     "output_type": "execute_result"
    }
   ],
   "source": [
    "k=0\n",
    "for i in range(3000):\n",
    "    if lab[i]==9:\n",
    "        if y[i]==7:\n",
    "            k = k + 1\n",
    "k       \n",
    "        "
   ]
  },
  {
   "cell_type": "code",
   "execution_count": 136,
   "id": "1cfcc492",
   "metadata": {},
   "outputs": [
    {
     "data": {
      "text/plain": [
       "354"
      ]
     },
     "execution_count": 136,
     "metadata": {},
     "output_type": "execute_result"
    }
   ],
   "source": [
    "np.size(nine)"
   ]
  },
  {
   "cell_type": "code",
   "execution_count": 138,
   "id": "f42b8135",
   "metadata": {},
   "outputs": [
    {
     "data": {
      "text/plain": [
       "0.607"
      ]
     },
     "execution_count": 138,
     "metadata": {},
     "output_type": "execute_result"
    }
   ],
   "source": [
    "accuracy = (167+124+142+294+130+194+222+198+212+138)/(354+297+153+472+168+350+262+361+224+359)\n",
    "accuracy"
   ]
  },
  {
   "cell_type": "code",
   "execution_count": 32,
   "id": "8aa893cd",
   "metadata": {},
   "outputs": [
    {
     "data": {
      "image/png": "[encoded data removed]",
      "text/plain": [
       "<Figure size 640x480 with 1 Axes>"
      ]
     },
     "metadata": {},
     "output_type": "display_data"
    }
   ],
   "source": [
    "sse = {}\n",
    "for k in range(1, 25):\n",
    "    kmeans = KMeans(n_clusters=k, max_iter=1000).fit(X)\n",
    "    df[\"clusters\"] = kmeans.labels_\n",
    "    #print(data[\"clusters\"])\n",
    "    sse[k] = kmeans.inertia_ # Inertia: Sum of distances of samples to their closest cluster center\n",
    "plt.figure()\n",
    "plt.plot(list(sse.keys()), list(sse.values()))\n",
    "plt.xlabel(\"Number of cluster\")\n",
    "plt.ylabel(\"SSE\")\n",
    "plt.xticks(np.arange(1, 25, step=1))\n",
    "plt.show()"
   ]
  },
  {
   "cell_type": "code",
   "execution_count": 30,
   "id": "c3830d95",
   "metadata": {},
   "outputs": [
    {
     "data": {
      "image/png": "[encoded data removed]",
      "text/plain": [
       "<Figure size 640x480 with 1 Axes>"
      ]
     },
     "metadata": {},
     "output_type": "display_data"
    }
   ],
   "source": [
    "plt.figure()\n",
    "plt.plot(list(sse.keys()), list(sse.values()))\n",
    "plt.xlabel(\"Number of cluster\")\n",
    "plt.ylabel(\"SSE\")\n",
    "plt.xticks(np.arange(4, 15, step=1))\n",
    "plt.show()"
   ]
  },
  {
   "cell_type": "code",
   "execution_count": 10,
   "id": "61fa227c",
   "metadata": {},
   "outputs": [],
   "source": [
    "pre = kmeans.predict(X)"
   ]
  },
  {
   "cell_type": "code",
   "execution_count": 16,
   "id": "9da54511",
   "metadata": {},
   "outputs": [
    {
     "data": {
      "text/plain": [
       "array([[0., 0., 0., ..., 0., 0., 0.],\n",
       "       [0., 0., 0., ..., 0., 0., 0.],\n",
       "       [0., 0., 0., ..., 0., 0., 0.],\n",
       "       ...,\n",
       "       [0., 0., 0., ..., 0., 0., 0.],\n",
       "       [0., 0., 0., ..., 0., 0., 0.],\n",
       "       [0., 0., 0., ..., 0., 0., 0.]])"
      ]
     },
     "execution_count": 16,
     "metadata": {},
     "output_type": "execute_result"
    }
   ],
   "source": [
    "kmeans.cluster_centers_"
   ]
  },
  {
   "cell_type": "code",
   "execution_count": 57,
   "id": "0db5a187",
   "metadata": {},
   "outputs": [],
   "source": [
    "a = np.arange(6).reshape((3, 2))"
   ]
  },
  {
   "cell_type": "code",
   "execution_count": 13,
   "id": "dd86b9de",
   "metadata": {},
   "outputs": [],
   "source": [
    "x = X.to_numpy()"
   ]
  },
  {
   "cell_type": "code",
   "execution_count": 98,
   "id": "3420782b",
   "metadata": {},
   "outputs": [],
   "source": [
    "a = x[0].reshape((28,28))"
   ]
  },
  {
   "cell_type": "code",
   "execution_count": 99,
   "id": "c6d1c6d7",
   "metadata": {},
   "outputs": [
    {
     "data": {
      "text/plain": [
       "<matplotlib.image.AxesImage at 0x29c41abe490>"
      ]
     },
     "execution_count": 99,
     "metadata": {},
     "output_type": "execute_result"
    },
    {
     "data": {
      "image/png": "[encoded data removed]",
      "text/plain": [
       "<Figure size 640x480 with 1 Axes>"
      ]
     },
     "metadata": {},
     "output_type": "display_data"
    }
   ],
   "source": [
    "plt.imshow(a)"
   ]
  },
  {
   "cell_type": "code",
   "execution_count": null,
   "id": "75b41b12",
   "metadata": {},
   "outputs": [],
   "source": []
  }
 ],
 "metadata": {
  "kernelspec": {
   "display_name": "Python 3 (ipykernel)",
   "language": "python",
   "name": "python3"
  },
  "language_info": {
   "codemirror_mode": {
    "name": "ipython",
    "version": 3
   },
   "file_extension": ".py",
   "mimetype": "text/x-python",
   "name": "python",
   "nbconvert_exporter": "python",
   "pygments_lexer": "ipython3",
   "version": "3.9.13"
  }
 },
 "nbformat": 4,
 "nbformat_minor": 5
}
