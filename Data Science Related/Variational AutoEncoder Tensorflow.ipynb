{
 "cells": [
  {
   "cell_type": "code",
   "execution_count": 1,
   "id": "9ec62dd1",
   "metadata": {},
   "outputs": [
    {
     "name": "stdout",
     "output_type": "stream",
     "text": [
      "TF version: 2.11.0\n",
      "TFP version: 0.19.0\n"
     ]
    }
   ],
   "source": [
    "import tensorflow as tf\n",
    "import tensorflow_probability as tfp\n",
    "tfd = tfp.distributions\n",
    "tfpl = tfp.layers\n",
    "tfb = tfp.bijectors\n",
    "print(\"TF version:\", tf.__version__)\n",
    "print(\"TFP version:\", tfp.__version__)"
   ]
  },
  {
   "cell_type": "code",
   "execution_count": 8,
   "id": "ba7a9e44",
   "metadata": {},
   "outputs": [],
   "source": [
    "from tensorflow.keras.models import Sequential, Model\n",
    "from tensorflow.keras.layers import Dense, Flatten, Reshape\n",
    "import matplotlib.pyplot as plt\n",
    "import seaborn as sns\n",
    "import numpy as np\n",
    "import pandas as pd"
   ]
  },
  {
   "cell_type": "code",
   "execution_count": 82,
   "id": "dc37de00",
   "metadata": {},
   "outputs": [],
   "source": [
    "## Use this to Load Fashion MNIST\n",
    "\n",
    "# (x_train, y_train), (x_test, y_test) = tf.keras.datasets.fashion_mnist.load_data()\n",
    "# x_train = x_train.astype('float32')/255.\n",
    "# x_test = x_test.astype('float32')/255.\n"
   ]
  },
  {
   "cell_type": "code",
   "execution_count": 62,
   "id": "2abe165e",
   "metadata": {},
   "outputs": [],
   "source": [
    "class_names = np.array(['T-shirt/top', 'Trouser/pants', 'Pullover shirt', 'Dress',\n",
    "                        'Coat', 'Sandal', 'Shirt', 'Sneaker', 'Bag','Ankle boot'])"
   ]
  },
  {
   "cell_type": "code",
   "execution_count": 63,
   "id": "7194dd80",
   "metadata": {},
   "outputs": [],
   "source": [
    "#loaded from above (already scaled.)\n",
    "loaded_data = np.load('mnist_data.npz')\n",
    "\n",
    "\n",
    "x_train = loaded_data['array1']\n",
    "y_train = loaded_data['array2']\n",
    "x_test = loaded_data['array3']\n",
    "y_test = loaded_data['array4']"
   ]
  },
  {
   "cell_type": "code",
   "execution_count": 64,
   "id": "0a0cab5a",
   "metadata": {},
   "outputs": [
    {
     "data": {
      "image/png": "[encoded data removed]",
      "text/plain": [
       "<Figure size 1500x400 with 5 Axes>"
      ]
     },
     "metadata": {},
     "output_type": "display_data"
    }
   ],
   "source": [
    "n_examples = 1000\n",
    "example_images = x_test[0:n_examples]\n",
    "example_labels = y_test[0:n_examples]\n",
    "\n",
    "f, axs = plt.subplots(1, 5, figsize=(15, 4))\n",
    "for j in range(len(axs)):\n",
    "    axs[j].imshow(example_images[j], cmap='binary')\n",
    "    axs[j].axis('off')"
   ]
  },
  {
   "cell_type": "code",
   "execution_count": 65,
   "id": "46ea135f",
   "metadata": {},
   "outputs": [],
   "source": [
    "#define encoding distribution, q(z|x)\n",
    "\n",
    "latent_size = 2    #modelling choice\n",
    "event_shape = (28,28)    #size of image\n",
    "\n",
    "encoder = Sequential([\n",
    "    Flatten(input_shape = event_shape),\n",
    "    Dense(256, activation = 'relu'),\n",
    "    Dense(128, activation = 'relu'),\n",
    "    Dense(64, activation = 'relu'),\n",
    "    Dense(32, activation = 'relu'),\n",
    "    Dense(2*latent_size),\n",
    "    tfpl.DistributionLambda(\n",
    "        lambda t : tfd.MultivariateNormalDiag(\n",
    "        loc = t[..., :latent_size],\n",
    "        scale_diag = tf.math.exp(t[..., latent_size:])))\n",
    "])"
   ]
  },
  {
   "cell_type": "code",
   "execution_count": 66,
   "id": "9c784d4d",
   "metadata": {},
   "outputs": [
    {
     "data": {
      "text/plain": [
       "<tfp.distributions._TensorCoercible 'tensor_coercible' batch_shape=[18] event_shape=[2] dtype=float32>"
      ]
     },
     "execution_count": 66,
     "metadata": {},
     "output_type": "execute_result"
    }
   ],
   "source": [
    "example_x = x_test[:18]\n",
    "encoder(example_x)"
   ]
  },
  {
   "cell_type": "markdown",
   "id": "d1b80fbf",
   "metadata": {},
   "source": [
    "Gives out a distribution with event_shape = 2 (no. of latent variables) and batch_shape = 18 (no of images taken)"
   ]
  },
  {
   "cell_type": "code",
   "execution_count": 67,
   "id": "950b9c32",
   "metadata": {},
   "outputs": [],
   "source": [
    "#decoding dist p(x|z)\n",
    "\n",
    "decoder = Sequential([\n",
    "    Dense(32, activation = 'relu'),\n",
    "    Dense(64, activation = 'relu'),\n",
    "    Dense(128, activation = 'relu'),\n",
    "    Dense(256, activation = 'relu'),\n",
    "    Dense(tfpl.IndependentBernoulli.params_size(event_shape)),\n",
    "    tfpl.IndependentBernoulli(event_shape)\n",
    "])"
   ]
  },
  {
   "cell_type": "code",
   "execution_count": 68,
   "id": "3db744f7",
   "metadata": {},
   "outputs": [
    {
     "data": {
      "text/plain": [
       "<tfp.distributions._TensorCoercible 'tensor_coercible' batch_shape=[16] event_shape=[28, 28] dtype=float32>"
      ]
     },
     "execution_count": 68,
     "metadata": {},
     "output_type": "execute_result"
    }
   ],
   "source": [
    "decoder(tf.random.normal([16, latent_size]))"
   ]
  },
  {
   "cell_type": "code",
   "execution_count": 69,
   "id": "803a2964",
   "metadata": {},
   "outputs": [],
   "source": [
    "#prior\n",
    "prior = tfd.MultivariateNormalDiag(loc = tf.zeros(latent_size))\n",
    "#Identity covariance"
   ]
  },
  {
   "attachments": {
    "image.png": {
     "image/png": "[encoded data removed]"
    }
   },
   "cell_type": "markdown",
   "id": "80f64c77",
   "metadata": {},
   "source": [
    "![image.png](attachment:image.png)"
   ]
  },
  {
   "cell_type": "code",
   "execution_count": 83,
   "id": "89b8a7da",
   "metadata": {},
   "outputs": [],
   "source": [
    "#we take monte carlo estimates of Expectation from q(z|x)\n",
    "def loss(x, encoding_dist, sampled_decoding_dist, prior):\n",
    "    return tf.reduce_sum(\n",
    "    tfd.kl_divergence(encoding_dist, prior) - sampled_decoding_dist.log_prob(x)\n",
    "    )"
   ]
  },
  {
   "cell_type": "code",
   "execution_count": 71,
   "id": "1c8e554a",
   "metadata": {},
   "outputs": [],
   "source": [
    "@tf.function\n",
    "def get_loss_and_grads(x):\n",
    "    with tf.GradientTape() as tape:\n",
    "        encoding_dist = encoder(x)\n",
    "        sampled_z = encoding_dist.sample()\n",
    "        sampled_decoding_dist = decoder(sampled_z)\n",
    "        current_loss = loss(x, encoding_dist, sampled_decoding_dist, prior)\n",
    "    grads = tape.gradient(current_loss, encoder.trainable_variables + decoder.trainable_variables)\n",
    "    return current_loss, grads"
   ]
  },
  {
   "cell_type": "code",
   "execution_count": 72,
   "id": "8dc4bebc",
   "metadata": {},
   "outputs": [],
   "source": [
    "batch_size = 64\n",
    "x_train = tf.data.Dataset.from_tensor_slices(x_train).batch(batch_size)"
   ]
  },
  {
   "cell_type": "code",
   "execution_count": 73,
   "id": "f8fa8723",
   "metadata": {},
   "outputs": [
    {
     "name": "stdout",
     "output_type": "stream",
     "text": [
      "-ELBO after epoch 1: 8974\n",
      "-ELBO after epoch 2: 8848\n",
      "-ELBO after epoch 3: 8801\n",
      "-ELBO after epoch 4: 8748\n",
      "-ELBO after epoch 5: 8800\n"
     ]
    }
   ],
   "source": [
    "num_epochs = 5\n",
    "opt = tf.keras.optimizers.Adam()\n",
    "for i in range(num_epochs):\n",
    "    for train_batch in x_train:\n",
    "        current_loss, grads = get_loss_and_grads(train_batch)\n",
    "        opt.apply_gradients(zip(grads, encoder.trainable_variables\n",
    "                                       + decoder.trainable_variables))\n",
    "        \n",
    "    print('-ELBO after epoch {}: {:.0f}'.format(i+1, current_loss.numpy()))"
   ]
  },
  {
   "cell_type": "code",
   "execution_count": 78,
   "id": "30c28274",
   "metadata": {},
   "outputs": [],
   "source": [
    "#Constructing encoder-decoder sequence\n",
    "def vae(inputs):\n",
    "    approx_posterior = encoder(inputs)\n",
    "    decoding_dist = decoder(approx_posterior.sample())\n",
    "    return decoding_dist.mean()\n",
    "\n",
    "example_reconstruction = vae(example_x).numpy()"
   ]
  },
  {
   "cell_type": "code",
   "execution_count": 79,
   "id": "294a7e40",
   "metadata": {},
   "outputs": [
    {
     "data": {
      "image/png": "[encoded data removed]",
      "text/plain": [
       "<Figure size 1600x500 with 12 Axes>"
      ]
     },
     "metadata": {},
     "output_type": "display_data"
    }
   ],
   "source": [
    "f, axs = plt.subplots(2, 6, figsize=(16, 5))\n",
    "\n",
    "for j in range(6):\n",
    "    axs[0, j].imshow(example_x[j, :, :].squeeze(), cmap='binary')\n",
    "    axs[1, j].imshow(example_reconstruction[j, :, :], cmap='binary')\n",
    "    axs[0, j].axis('off')\n",
    "    axs[1, j].axis('off')"
   ]
  },
  {
   "cell_type": "code",
   "execution_count": 84,
   "id": "53abaed1",
   "metadata": {},
   "outputs": [],
   "source": [
    "# Generate an example - sample a z value, then sample a reconstruction from p(x|z)\n",
    "z = prior.sample(6)\n",
    "generated_x = decoder(z).mean() #mean works better than samples "
   ]
  },
  {
   "cell_type": "code",
   "execution_count": 81,
   "id": "37988dd6",
   "metadata": {},
   "outputs": [
    {
     "data": {
      "image/png": "[encoded data removed]",
      "text/plain": [
       "<Figure size 1600x500 with 6 Axes>"
      ]
     },
     "metadata": {},
     "output_type": "display_data"
    }
   ],
   "source": [
    "# Display generated_x\n",
    "\n",
    "f, axs = plt.subplots(1, 6, figsize=(16, 5))\n",
    "for j in range(6):\n",
    "    axs[j].imshow(generated_x[j, :, :].numpy().squeeze(), cmap='binary')\n",
    "    axs[j].axis('off')"
   ]
  },
  {
   "cell_type": "code",
   "execution_count": null,
   "id": "d6f939db",
   "metadata": {},
   "outputs": [],
   "source": []
  }
 ],
 "metadata": {
  "kernelspec": {
   "display_name": "Python 3 (ipykernel)",
   "language": "python",
   "name": "python3"
  },
  "language_info": {
   "codemirror_mode": {
    "name": "ipython",
    "version": 3
   },
   "file_extension": ".py",
   "mimetype": "text/x-python",
   "name": "python",
   "nbconvert_exporter": "python",
   "pygments_lexer": "ipython3",
   "version": "3.9.13"
  }
 },
 "nbformat": 4,
 "nbformat_minor": 5
}
