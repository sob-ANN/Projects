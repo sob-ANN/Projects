{
 "cells": [
  {
   "cell_type": "code",
   "execution_count": 1,
   "id": "32bfd842",
   "metadata": {},
   "outputs": [],
   "source": [
    "import numpy as np\n",
    "import pandas as pd\n",
    "import matplotlib.pyplot as plt"
   ]
  },
  {
   "cell_type": "code",
   "execution_count": 3,
   "id": "c2b060ef",
   "metadata": {},
   "outputs": [
    {
     "data": {
      "text/html": [
       "<div>\n",
       "<style scoped>\n",
       "    .dataframe tbody tr th:only-of-type {\n",
       "        vertical-align: middle;\n",
       "    }\n",
       "\n",
       "    .dataframe tbody tr th {\n",
       "        vertical-align: top;\n",
       "    }\n",
       "\n",
       "    .dataframe thead th {\n",
       "        text-align: right;\n",
       "    }\n",
       "</style>\n",
       "<table border=\"1\" class=\"dataframe\">\n",
       "  <thead>\n",
       "    <tr style=\"text-align: right;\">\n",
       "      <th></th>\n",
       "      <th>x1</th>\n",
       "      <th>x2</th>\n",
       "      <th>x3</th>\n",
       "      <th>x4</th>\n",
       "      <th>x5</th>\n",
       "      <th>x6</th>\n",
       "      <th>x7</th>\n",
       "      <th>x8</th>\n",
       "      <th>x9</th>\n",
       "      <th>x10</th>\n",
       "      <th>...</th>\n",
       "      <th>x17</th>\n",
       "      <th>x18</th>\n",
       "      <th>x19</th>\n",
       "      <th>x20</th>\n",
       "      <th>x21</th>\n",
       "      <th>x22</th>\n",
       "      <th>x23</th>\n",
       "      <th>x24</th>\n",
       "      <th>x25</th>\n",
       "      <th>t</th>\n",
       "    </tr>\n",
       "  </thead>\n",
       "  <tbody>\n",
       "    <tr>\n",
       "      <th>0</th>\n",
       "      <td>1.128460</td>\n",
       "      <td>-1.004679</td>\n",
       "      <td>-0.764636</td>\n",
       "      <td>1.305538</td>\n",
       "      <td>-2.333342</td>\n",
       "      <td>-2.085853</td>\n",
       "      <td>0.103880</td>\n",
       "      <td>-0.317578</td>\n",
       "      <td>-0.510464</td>\n",
       "      <td>-0.079742</td>\n",
       "      <td>...</td>\n",
       "      <td>1.366981</td>\n",
       "      <td>0.453301</td>\n",
       "      <td>0.311003</td>\n",
       "      <td>-1.947820</td>\n",
       "      <td>-0.584006</td>\n",
       "      <td>1.642251</td>\n",
       "      <td>1.777571</td>\n",
       "      <td>-0.728727</td>\n",
       "      <td>-0.174553</td>\n",
       "      <td>0</td>\n",
       "    </tr>\n",
       "    <tr>\n",
       "      <th>1</th>\n",
       "      <td>0.881879</td>\n",
       "      <td>-0.683470</td>\n",
       "      <td>-0.219447</td>\n",
       "      <td>-0.463389</td>\n",
       "      <td>-0.861895</td>\n",
       "      <td>0.454338</td>\n",
       "      <td>-0.887343</td>\n",
       "      <td>-1.369166</td>\n",
       "      <td>-0.525322</td>\n",
       "      <td>0.471672</td>\n",
       "      <td>...</td>\n",
       "      <td>0.367210</td>\n",
       "      <td>-1.573349</td>\n",
       "      <td>-0.043494</td>\n",
       "      <td>-0.690470</td>\n",
       "      <td>-1.216343</td>\n",
       "      <td>0.907539</td>\n",
       "      <td>0.119119</td>\n",
       "      <td>-0.507536</td>\n",
       "      <td>-0.642147</td>\n",
       "      <td>0</td>\n",
       "    </tr>\n",
       "    <tr>\n",
       "      <th>2</th>\n",
       "      <td>2.188258</td>\n",
       "      <td>-0.355309</td>\n",
       "      <td>0.778651</td>\n",
       "      <td>-0.477789</td>\n",
       "      <td>-1.657538</td>\n",
       "      <td>0.489354</td>\n",
       "      <td>-0.114886</td>\n",
       "      <td>-1.726662</td>\n",
       "      <td>0.090552</td>\n",
       "      <td>-0.607126</td>\n",
       "      <td>...</td>\n",
       "      <td>-0.358990</td>\n",
       "      <td>-0.479845</td>\n",
       "      <td>0.769797</td>\n",
       "      <td>-1.032198</td>\n",
       "      <td>0.319908</td>\n",
       "      <td>-0.718367</td>\n",
       "      <td>1.046185</td>\n",
       "      <td>-0.143620</td>\n",
       "      <td>-0.395478</td>\n",
       "      <td>0</td>\n",
       "    </tr>\n",
       "    <tr>\n",
       "      <th>3</th>\n",
       "      <td>1.096141</td>\n",
       "      <td>-0.522456</td>\n",
       "      <td>-0.025974</td>\n",
       "      <td>0.336760</td>\n",
       "      <td>-1.310174</td>\n",
       "      <td>0.155384</td>\n",
       "      <td>-0.935217</td>\n",
       "      <td>-1.416150</td>\n",
       "      <td>-1.387020</td>\n",
       "      <td>0.796370</td>\n",
       "      <td>...</td>\n",
       "      <td>-0.370407</td>\n",
       "      <td>-1.245793</td>\n",
       "      <td>-0.655392</td>\n",
       "      <td>-0.061459</td>\n",
       "      <td>0.092322</td>\n",
       "      <td>-1.054105</td>\n",
       "      <td>-0.651091</td>\n",
       "      <td>-0.725659</td>\n",
       "      <td>0.022258</td>\n",
       "      <td>0</td>\n",
       "    </tr>\n",
       "    <tr>\n",
       "      <th>4</th>\n",
       "      <td>2.276572</td>\n",
       "      <td>0.473301</td>\n",
       "      <td>1.614111</td>\n",
       "      <td>-0.356759</td>\n",
       "      <td>-1.089978</td>\n",
       "      <td>-0.295003</td>\n",
       "      <td>2.370078</td>\n",
       "      <td>0.372138</td>\n",
       "      <td>3.032531</td>\n",
       "      <td>-1.799902</td>\n",
       "      <td>...</td>\n",
       "      <td>-0.454230</td>\n",
       "      <td>-0.788886</td>\n",
       "      <td>0.039238</td>\n",
       "      <td>-0.888748</td>\n",
       "      <td>-1.991423</td>\n",
       "      <td>-0.936264</td>\n",
       "      <td>1.159971</td>\n",
       "      <td>-0.255235</td>\n",
       "      <td>-0.260196</td>\n",
       "      <td>0</td>\n",
       "    </tr>\n",
       "    <tr>\n",
       "      <th>...</th>\n",
       "      <td>...</td>\n",
       "      <td>...</td>\n",
       "      <td>...</td>\n",
       "      <td>...</td>\n",
       "      <td>...</td>\n",
       "      <td>...</td>\n",
       "      <td>...</td>\n",
       "      <td>...</td>\n",
       "      <td>...</td>\n",
       "      <td>...</td>\n",
       "      <td>...</td>\n",
       "      <td>...</td>\n",
       "      <td>...</td>\n",
       "      <td>...</td>\n",
       "      <td>...</td>\n",
       "      <td>...</td>\n",
       "      <td>...</td>\n",
       "      <td>...</td>\n",
       "      <td>...</td>\n",
       "      <td>...</td>\n",
       "      <td>...</td>\n",
       "    </tr>\n",
       "    <tr>\n",
       "      <th>2995</th>\n",
       "      <td>-0.203690</td>\n",
       "      <td>0.593806</td>\n",
       "      <td>1.242784</td>\n",
       "      <td>-1.471898</td>\n",
       "      <td>0.020850</td>\n",
       "      <td>-0.136875</td>\n",
       "      <td>-0.527310</td>\n",
       "      <td>0.212789</td>\n",
       "      <td>0.685732</td>\n",
       "      <td>1.494507</td>\n",
       "      <td>...</td>\n",
       "      <td>0.387755</td>\n",
       "      <td>-0.762616</td>\n",
       "      <td>0.040665</td>\n",
       "      <td>-0.042481</td>\n",
       "      <td>0.442799</td>\n",
       "      <td>1.326856</td>\n",
       "      <td>-0.545369</td>\n",
       "      <td>-1.482724</td>\n",
       "      <td>0.240133</td>\n",
       "      <td>9</td>\n",
       "    </tr>\n",
       "    <tr>\n",
       "      <th>2996</th>\n",
       "      <td>-0.566997</td>\n",
       "      <td>0.872009</td>\n",
       "      <td>-1.521512</td>\n",
       "      <td>-0.352480</td>\n",
       "      <td>0.296670</td>\n",
       "      <td>1.067630</td>\n",
       "      <td>-0.532733</td>\n",
       "      <td>0.047291</td>\n",
       "      <td>-0.254867</td>\n",
       "      <td>-1.298734</td>\n",
       "      <td>...</td>\n",
       "      <td>-0.065718</td>\n",
       "      <td>-1.276402</td>\n",
       "      <td>-0.716700</td>\n",
       "      <td>-1.213715</td>\n",
       "      <td>1.228252</td>\n",
       "      <td>0.844227</td>\n",
       "      <td>0.422436</td>\n",
       "      <td>-0.796279</td>\n",
       "      <td>-0.719686</td>\n",
       "      <td>9</td>\n",
       "    </tr>\n",
       "    <tr>\n",
       "      <th>2997</th>\n",
       "      <td>-0.631062</td>\n",
       "      <td>0.986778</td>\n",
       "      <td>0.693309</td>\n",
       "      <td>-1.428883</td>\n",
       "      <td>0.564536</td>\n",
       "      <td>-0.704237</td>\n",
       "      <td>-0.177915</td>\n",
       "      <td>-0.123161</td>\n",
       "      <td>3.097186</td>\n",
       "      <td>2.433771</td>\n",
       "      <td>...</td>\n",
       "      <td>-0.662991</td>\n",
       "      <td>0.111617</td>\n",
       "      <td>0.252832</td>\n",
       "      <td>-2.694688</td>\n",
       "      <td>0.531526</td>\n",
       "      <td>-0.109231</td>\n",
       "      <td>0.511305</td>\n",
       "      <td>1.141218</td>\n",
       "      <td>1.372011</td>\n",
       "      <td>9</td>\n",
       "    </tr>\n",
       "    <tr>\n",
       "      <th>2998</th>\n",
       "      <td>-0.183520</td>\n",
       "      <td>1.467813</td>\n",
       "      <td>-1.560457</td>\n",
       "      <td>-1.703930</td>\n",
       "      <td>0.503348</td>\n",
       "      <td>0.286973</td>\n",
       "      <td>1.053576</td>\n",
       "      <td>0.397156</td>\n",
       "      <td>-0.032501</td>\n",
       "      <td>0.175912</td>\n",
       "      <td>...</td>\n",
       "      <td>0.764161</td>\n",
       "      <td>-0.330633</td>\n",
       "      <td>-2.707045</td>\n",
       "      <td>0.749615</td>\n",
       "      <td>-0.397699</td>\n",
       "      <td>-0.325991</td>\n",
       "      <td>-0.524887</td>\n",
       "      <td>0.086520</td>\n",
       "      <td>0.676610</td>\n",
       "      <td>9</td>\n",
       "    </tr>\n",
       "    <tr>\n",
       "      <th>2999</th>\n",
       "      <td>-0.909759</td>\n",
       "      <td>0.533673</td>\n",
       "      <td>0.743022</td>\n",
       "      <td>-1.143173</td>\n",
       "      <td>0.712718</td>\n",
       "      <td>-0.907241</td>\n",
       "      <td>-0.651727</td>\n",
       "      <td>0.099078</td>\n",
       "      <td>0.620441</td>\n",
       "      <td>1.976021</td>\n",
       "      <td>...</td>\n",
       "      <td>0.438342</td>\n",
       "      <td>0.531637</td>\n",
       "      <td>0.224060</td>\n",
       "      <td>-2.249312</td>\n",
       "      <td>-0.494418</td>\n",
       "      <td>1.324927</td>\n",
       "      <td>0.172832</td>\n",
       "      <td>1.166019</td>\n",
       "      <td>-0.291943</td>\n",
       "      <td>9</td>\n",
       "    </tr>\n",
       "  </tbody>\n",
       "</table>\n",
       "<p>3000 rows × 26 columns</p>\n",
       "</div>"
      ],
      "text/plain": [
       "            x1        x2        x3        x4        x5        x6        x7  \\\n",
       "0     1.128460 -1.004679 -0.764636  1.305538 -2.333342 -2.085853  0.103880   \n",
       "1     0.881879 -0.683470 -0.219447 -0.463389 -0.861895  0.454338 -0.887343   \n",
       "2     2.188258 -0.355309  0.778651 -0.477789 -1.657538  0.489354 -0.114886   \n",
       "3     1.096141 -0.522456 -0.025974  0.336760 -1.310174  0.155384 -0.935217   \n",
       "4     2.276572  0.473301  1.614111 -0.356759 -1.089978 -0.295003  2.370078   \n",
       "...        ...       ...       ...       ...       ...       ...       ...   \n",
       "2995 -0.203690  0.593806  1.242784 -1.471898  0.020850 -0.136875 -0.527310   \n",
       "2996 -0.566997  0.872009 -1.521512 -0.352480  0.296670  1.067630 -0.532733   \n",
       "2997 -0.631062  0.986778  0.693309 -1.428883  0.564536 -0.704237 -0.177915   \n",
       "2998 -0.183520  1.467813 -1.560457 -1.703930  0.503348  0.286973  1.053576   \n",
       "2999 -0.909759  0.533673  0.743022 -1.143173  0.712718 -0.907241 -0.651727   \n",
       "\n",
       "            x8        x9       x10  ...       x17       x18       x19  \\\n",
       "0    -0.317578 -0.510464 -0.079742  ...  1.366981  0.453301  0.311003   \n",
       "1    -1.369166 -0.525322  0.471672  ...  0.367210 -1.573349 -0.043494   \n",
       "2    -1.726662  0.090552 -0.607126  ... -0.358990 -0.479845  0.769797   \n",
       "3    -1.416150 -1.387020  0.796370  ... -0.370407 -1.245793 -0.655392   \n",
       "4     0.372138  3.032531 -1.799902  ... -0.454230 -0.788886  0.039238   \n",
       "...        ...       ...       ...  ...       ...       ...       ...   \n",
       "2995  0.212789  0.685732  1.494507  ...  0.387755 -0.762616  0.040665   \n",
       "2996  0.047291 -0.254867 -1.298734  ... -0.065718 -1.276402 -0.716700   \n",
       "2997 -0.123161  3.097186  2.433771  ... -0.662991  0.111617  0.252832   \n",
       "2998  0.397156 -0.032501  0.175912  ...  0.764161 -0.330633 -2.707045   \n",
       "2999  0.099078  0.620441  1.976021  ...  0.438342  0.531637  0.224060   \n",
       "\n",
       "           x20       x21       x22       x23       x24       x25  t  \n",
       "0    -1.947820 -0.584006  1.642251  1.777571 -0.728727 -0.174553  0  \n",
       "1    -0.690470 -1.216343  0.907539  0.119119 -0.507536 -0.642147  0  \n",
       "2    -1.032198  0.319908 -0.718367  1.046185 -0.143620 -0.395478  0  \n",
       "3    -0.061459  0.092322 -1.054105 -0.651091 -0.725659  0.022258  0  \n",
       "4    -0.888748 -1.991423 -0.936264  1.159971 -0.255235 -0.260196  0  \n",
       "...        ...       ...       ...       ...       ...       ... ..  \n",
       "2995 -0.042481  0.442799  1.326856 -0.545369 -1.482724  0.240133  9  \n",
       "2996 -1.213715  1.228252  0.844227  0.422436 -0.796279 -0.719686  9  \n",
       "2997 -2.694688  0.531526 -0.109231  0.511305  1.141218  1.372011  9  \n",
       "2998  0.749615 -0.397699 -0.325991 -0.524887  0.086520  0.676610  9  \n",
       "2999 -2.249312 -0.494418  1.324927  0.172832  1.166019 -0.291943  9  \n",
       "\n",
       "[3000 rows x 26 columns]"
      ]
     },
     "execution_count": 3,
     "metadata": {},
     "output_type": "execute_result"
    }
   ],
   "source": [
    "df = pd.read_csv('tr12.csv')\n",
    "df"
   ]
  },
  {
   "cell_type": "code",
   "execution_count": 4,
   "id": "68fc3db8",
   "metadata": {},
   "outputs": [],
   "source": [
    "X = df.drop('t' , axis='columns')\n",
    "y = df.pop('t')"
   ]
  },
  {
   "cell_type": "code",
   "execution_count": 82,
   "id": "c6215e57",
   "metadata": {},
   "outputs": [
    {
     "data": {
      "text/html": [
       "<div>\n",
       "<style scoped>\n",
       "    .dataframe tbody tr th:only-of-type {\n",
       "        vertical-align: middle;\n",
       "    }\n",
       "\n",
       "    .dataframe tbody tr th {\n",
       "        vertical-align: top;\n",
       "    }\n",
       "\n",
       "    .dataframe thead th {\n",
       "        text-align: right;\n",
       "    }\n",
       "</style>\n",
       "<table border=\"1\" class=\"dataframe\">\n",
       "  <thead>\n",
       "    <tr style=\"text-align: right;\">\n",
       "      <th></th>\n",
       "      <th>x1</th>\n",
       "      <th>x2</th>\n",
       "      <th>x3</th>\n",
       "      <th>x4</th>\n",
       "      <th>x5</th>\n",
       "      <th>x6</th>\n",
       "      <th>x7</th>\n",
       "      <th>x8</th>\n",
       "      <th>x9</th>\n",
       "      <th>x10</th>\n",
       "      <th>...</th>\n",
       "      <th>x16</th>\n",
       "      <th>x17</th>\n",
       "      <th>x18</th>\n",
       "      <th>x19</th>\n",
       "      <th>x20</th>\n",
       "      <th>x21</th>\n",
       "      <th>x22</th>\n",
       "      <th>x23</th>\n",
       "      <th>x24</th>\n",
       "      <th>x25</th>\n",
       "    </tr>\n",
       "  </thead>\n",
       "  <tbody>\n",
       "    <tr>\n",
       "      <th>0</th>\n",
       "      <td>1.128460</td>\n",
       "      <td>-1.004679</td>\n",
       "      <td>-0.764636</td>\n",
       "      <td>1.305538</td>\n",
       "      <td>-2.333342</td>\n",
       "      <td>-2.085853</td>\n",
       "      <td>0.103880</td>\n",
       "      <td>-0.317578</td>\n",
       "      <td>-0.510464</td>\n",
       "      <td>-0.079742</td>\n",
       "      <td>...</td>\n",
       "      <td>-0.472633</td>\n",
       "      <td>1.366981</td>\n",
       "      <td>0.453301</td>\n",
       "      <td>0.311003</td>\n",
       "      <td>-1.947820</td>\n",
       "      <td>-0.584006</td>\n",
       "      <td>1.642251</td>\n",
       "      <td>1.777571</td>\n",
       "      <td>-0.728727</td>\n",
       "      <td>-0.174553</td>\n",
       "    </tr>\n",
       "    <tr>\n",
       "      <th>1</th>\n",
       "      <td>0.881879</td>\n",
       "      <td>-0.683470</td>\n",
       "      <td>-0.219447</td>\n",
       "      <td>-0.463389</td>\n",
       "      <td>-0.861895</td>\n",
       "      <td>0.454338</td>\n",
       "      <td>-0.887343</td>\n",
       "      <td>-1.369166</td>\n",
       "      <td>-0.525322</td>\n",
       "      <td>0.471672</td>\n",
       "      <td>...</td>\n",
       "      <td>-0.321183</td>\n",
       "      <td>0.367210</td>\n",
       "      <td>-1.573349</td>\n",
       "      <td>-0.043494</td>\n",
       "      <td>-0.690470</td>\n",
       "      <td>-1.216343</td>\n",
       "      <td>0.907539</td>\n",
       "      <td>0.119119</td>\n",
       "      <td>-0.507536</td>\n",
       "      <td>-0.642147</td>\n",
       "    </tr>\n",
       "    <tr>\n",
       "      <th>2</th>\n",
       "      <td>2.188258</td>\n",
       "      <td>-0.355309</td>\n",
       "      <td>0.778651</td>\n",
       "      <td>-0.477789</td>\n",
       "      <td>-1.657538</td>\n",
       "      <td>0.489354</td>\n",
       "      <td>-0.114886</td>\n",
       "      <td>-1.726662</td>\n",
       "      <td>0.090552</td>\n",
       "      <td>-0.607126</td>\n",
       "      <td>...</td>\n",
       "      <td>0.414008</td>\n",
       "      <td>-0.358990</td>\n",
       "      <td>-0.479845</td>\n",
       "      <td>0.769797</td>\n",
       "      <td>-1.032198</td>\n",
       "      <td>0.319908</td>\n",
       "      <td>-0.718367</td>\n",
       "      <td>1.046185</td>\n",
       "      <td>-0.143620</td>\n",
       "      <td>-0.395478</td>\n",
       "    </tr>\n",
       "    <tr>\n",
       "      <th>3</th>\n",
       "      <td>1.096141</td>\n",
       "      <td>-0.522456</td>\n",
       "      <td>-0.025974</td>\n",
       "      <td>0.336760</td>\n",
       "      <td>-1.310174</td>\n",
       "      <td>0.155384</td>\n",
       "      <td>-0.935217</td>\n",
       "      <td>-1.416150</td>\n",
       "      <td>-1.387020</td>\n",
       "      <td>0.796370</td>\n",
       "      <td>...</td>\n",
       "      <td>-0.872949</td>\n",
       "      <td>-0.370407</td>\n",
       "      <td>-1.245793</td>\n",
       "      <td>-0.655392</td>\n",
       "      <td>-0.061459</td>\n",
       "      <td>0.092322</td>\n",
       "      <td>-1.054105</td>\n",
       "      <td>-0.651091</td>\n",
       "      <td>-0.725659</td>\n",
       "      <td>0.022258</td>\n",
       "    </tr>\n",
       "    <tr>\n",
       "      <th>4</th>\n",
       "      <td>2.276572</td>\n",
       "      <td>0.473301</td>\n",
       "      <td>1.614111</td>\n",
       "      <td>-0.356759</td>\n",
       "      <td>-1.089978</td>\n",
       "      <td>-0.295003</td>\n",
       "      <td>2.370078</td>\n",
       "      <td>0.372138</td>\n",
       "      <td>3.032531</td>\n",
       "      <td>-1.799902</td>\n",
       "      <td>...</td>\n",
       "      <td>0.392323</td>\n",
       "      <td>-0.454230</td>\n",
       "      <td>-0.788886</td>\n",
       "      <td>0.039238</td>\n",
       "      <td>-0.888748</td>\n",
       "      <td>-1.991423</td>\n",
       "      <td>-0.936264</td>\n",
       "      <td>1.159971</td>\n",
       "      <td>-0.255235</td>\n",
       "      <td>-0.260196</td>\n",
       "    </tr>\n",
       "    <tr>\n",
       "      <th>...</th>\n",
       "      <td>...</td>\n",
       "      <td>...</td>\n",
       "      <td>...</td>\n",
       "      <td>...</td>\n",
       "      <td>...</td>\n",
       "      <td>...</td>\n",
       "      <td>...</td>\n",
       "      <td>...</td>\n",
       "      <td>...</td>\n",
       "      <td>...</td>\n",
       "      <td>...</td>\n",
       "      <td>...</td>\n",
       "      <td>...</td>\n",
       "      <td>...</td>\n",
       "      <td>...</td>\n",
       "      <td>...</td>\n",
       "      <td>...</td>\n",
       "      <td>...</td>\n",
       "      <td>...</td>\n",
       "      <td>...</td>\n",
       "      <td>...</td>\n",
       "    </tr>\n",
       "    <tr>\n",
       "      <th>2995</th>\n",
       "      <td>-0.203690</td>\n",
       "      <td>0.593806</td>\n",
       "      <td>1.242784</td>\n",
       "      <td>-1.471898</td>\n",
       "      <td>0.020850</td>\n",
       "      <td>-0.136875</td>\n",
       "      <td>-0.527310</td>\n",
       "      <td>0.212789</td>\n",
       "      <td>0.685732</td>\n",
       "      <td>1.494507</td>\n",
       "      <td>...</td>\n",
       "      <td>-1.805455</td>\n",
       "      <td>0.387755</td>\n",
       "      <td>-0.762616</td>\n",
       "      <td>0.040665</td>\n",
       "      <td>-0.042481</td>\n",
       "      <td>0.442799</td>\n",
       "      <td>1.326856</td>\n",
       "      <td>-0.545369</td>\n",
       "      <td>-1.482724</td>\n",
       "      <td>0.240133</td>\n",
       "    </tr>\n",
       "    <tr>\n",
       "      <th>2996</th>\n",
       "      <td>-0.566997</td>\n",
       "      <td>0.872009</td>\n",
       "      <td>-1.521512</td>\n",
       "      <td>-0.352480</td>\n",
       "      <td>0.296670</td>\n",
       "      <td>1.067630</td>\n",
       "      <td>-0.532733</td>\n",
       "      <td>0.047291</td>\n",
       "      <td>-0.254867</td>\n",
       "      <td>-1.298734</td>\n",
       "      <td>...</td>\n",
       "      <td>0.355495</td>\n",
       "      <td>-0.065718</td>\n",
       "      <td>-1.276402</td>\n",
       "      <td>-0.716700</td>\n",
       "      <td>-1.213715</td>\n",
       "      <td>1.228252</td>\n",
       "      <td>0.844227</td>\n",
       "      <td>0.422436</td>\n",
       "      <td>-0.796279</td>\n",
       "      <td>-0.719686</td>\n",
       "    </tr>\n",
       "    <tr>\n",
       "      <th>2997</th>\n",
       "      <td>-0.631062</td>\n",
       "      <td>0.986778</td>\n",
       "      <td>0.693309</td>\n",
       "      <td>-1.428883</td>\n",
       "      <td>0.564536</td>\n",
       "      <td>-0.704237</td>\n",
       "      <td>-0.177915</td>\n",
       "      <td>-0.123161</td>\n",
       "      <td>3.097186</td>\n",
       "      <td>2.433771</td>\n",
       "      <td>...</td>\n",
       "      <td>-0.572805</td>\n",
       "      <td>-0.662991</td>\n",
       "      <td>0.111617</td>\n",
       "      <td>0.252832</td>\n",
       "      <td>-2.694688</td>\n",
       "      <td>0.531526</td>\n",
       "      <td>-0.109231</td>\n",
       "      <td>0.511305</td>\n",
       "      <td>1.141218</td>\n",
       "      <td>1.372011</td>\n",
       "    </tr>\n",
       "    <tr>\n",
       "      <th>2998</th>\n",
       "      <td>-0.183520</td>\n",
       "      <td>1.467813</td>\n",
       "      <td>-1.560457</td>\n",
       "      <td>-1.703930</td>\n",
       "      <td>0.503348</td>\n",
       "      <td>0.286973</td>\n",
       "      <td>1.053576</td>\n",
       "      <td>0.397156</td>\n",
       "      <td>-0.032501</td>\n",
       "      <td>0.175912</td>\n",
       "      <td>...</td>\n",
       "      <td>0.614862</td>\n",
       "      <td>0.764161</td>\n",
       "      <td>-0.330633</td>\n",
       "      <td>-2.707045</td>\n",
       "      <td>0.749615</td>\n",
       "      <td>-0.397699</td>\n",
       "      <td>-0.325991</td>\n",
       "      <td>-0.524887</td>\n",
       "      <td>0.086520</td>\n",
       "      <td>0.676610</td>\n",
       "    </tr>\n",
       "    <tr>\n",
       "      <th>2999</th>\n",
       "      <td>-0.909759</td>\n",
       "      <td>0.533673</td>\n",
       "      <td>0.743022</td>\n",
       "      <td>-1.143173</td>\n",
       "      <td>0.712718</td>\n",
       "      <td>-0.907241</td>\n",
       "      <td>-0.651727</td>\n",
       "      <td>0.099078</td>\n",
       "      <td>0.620441</td>\n",
       "      <td>1.976021</td>\n",
       "      <td>...</td>\n",
       "      <td>-0.108762</td>\n",
       "      <td>0.438342</td>\n",
       "      <td>0.531637</td>\n",
       "      <td>0.224060</td>\n",
       "      <td>-2.249312</td>\n",
       "      <td>-0.494418</td>\n",
       "      <td>1.324927</td>\n",
       "      <td>0.172832</td>\n",
       "      <td>1.166019</td>\n",
       "      <td>-0.291943</td>\n",
       "    </tr>\n",
       "  </tbody>\n",
       "</table>\n",
       "<p>3000 rows × 25 columns</p>\n",
       "</div>"
      ],
      "text/plain": [
       "            x1        x2        x3        x4        x5        x6        x7  \\\n",
       "0     1.128460 -1.004679 -0.764636  1.305538 -2.333342 -2.085853  0.103880   \n",
       "1     0.881879 -0.683470 -0.219447 -0.463389 -0.861895  0.454338 -0.887343   \n",
       "2     2.188258 -0.355309  0.778651 -0.477789 -1.657538  0.489354 -0.114886   \n",
       "3     1.096141 -0.522456 -0.025974  0.336760 -1.310174  0.155384 -0.935217   \n",
       "4     2.276572  0.473301  1.614111 -0.356759 -1.089978 -0.295003  2.370078   \n",
       "...        ...       ...       ...       ...       ...       ...       ...   \n",
       "2995 -0.203690  0.593806  1.242784 -1.471898  0.020850 -0.136875 -0.527310   \n",
       "2996 -0.566997  0.872009 -1.521512 -0.352480  0.296670  1.067630 -0.532733   \n",
       "2997 -0.631062  0.986778  0.693309 -1.428883  0.564536 -0.704237 -0.177915   \n",
       "2998 -0.183520  1.467813 -1.560457 -1.703930  0.503348  0.286973  1.053576   \n",
       "2999 -0.909759  0.533673  0.743022 -1.143173  0.712718 -0.907241 -0.651727   \n",
       "\n",
       "            x8        x9       x10  ...       x16       x17       x18  \\\n",
       "0    -0.317578 -0.510464 -0.079742  ... -0.472633  1.366981  0.453301   \n",
       "1    -1.369166 -0.525322  0.471672  ... -0.321183  0.367210 -1.573349   \n",
       "2    -1.726662  0.090552 -0.607126  ...  0.414008 -0.358990 -0.479845   \n",
       "3    -1.416150 -1.387020  0.796370  ... -0.872949 -0.370407 -1.245793   \n",
       "4     0.372138  3.032531 -1.799902  ...  0.392323 -0.454230 -0.788886   \n",
       "...        ...       ...       ...  ...       ...       ...       ...   \n",
       "2995  0.212789  0.685732  1.494507  ... -1.805455  0.387755 -0.762616   \n",
       "2996  0.047291 -0.254867 -1.298734  ...  0.355495 -0.065718 -1.276402   \n",
       "2997 -0.123161  3.097186  2.433771  ... -0.572805 -0.662991  0.111617   \n",
       "2998  0.397156 -0.032501  0.175912  ...  0.614862  0.764161 -0.330633   \n",
       "2999  0.099078  0.620441  1.976021  ... -0.108762  0.438342  0.531637   \n",
       "\n",
       "           x19       x20       x21       x22       x23       x24       x25  \n",
       "0     0.311003 -1.947820 -0.584006  1.642251  1.777571 -0.728727 -0.174553  \n",
       "1    -0.043494 -0.690470 -1.216343  0.907539  0.119119 -0.507536 -0.642147  \n",
       "2     0.769797 -1.032198  0.319908 -0.718367  1.046185 -0.143620 -0.395478  \n",
       "3    -0.655392 -0.061459  0.092322 -1.054105 -0.651091 -0.725659  0.022258  \n",
       "4     0.039238 -0.888748 -1.991423 -0.936264  1.159971 -0.255235 -0.260196  \n",
       "...        ...       ...       ...       ...       ...       ...       ...  \n",
       "2995  0.040665 -0.042481  0.442799  1.326856 -0.545369 -1.482724  0.240133  \n",
       "2996 -0.716700 -1.213715  1.228252  0.844227  0.422436 -0.796279 -0.719686  \n",
       "2997  0.252832 -2.694688  0.531526 -0.109231  0.511305  1.141218  1.372011  \n",
       "2998 -2.707045  0.749615 -0.397699 -0.325991 -0.524887  0.086520  0.676610  \n",
       "2999  0.224060 -2.249312 -0.494418  1.324927  0.172832  1.166019 -0.291943  \n",
       "\n",
       "[3000 rows x 25 columns]"
      ]
     },
     "execution_count": 82,
     "metadata": {},
     "output_type": "execute_result"
    }
   ],
   "source": [
    "X"
   ]
  },
  {
   "cell_type": "code",
   "execution_count": 5,
   "id": "b33eea11",
   "metadata": {},
   "outputs": [],
   "source": [
    "x = X.to_numpy()"
   ]
  },
  {
   "cell_type": "code",
   "execution_count": 14,
   "id": "65dfe472",
   "metadata": {},
   "outputs": [
    {
     "data": {
      "text/plain": [
       "0       1.128460\n",
       "1       0.881879\n",
       "2       2.188258\n",
       "3       1.096141\n",
       "4       2.276572\n",
       "          ...   \n",
       "2995   -0.203690\n",
       "2996   -0.566997\n",
       "2997   -0.631062\n",
       "2998   -0.183520\n",
       "2999   -0.909759\n",
       "Name: x1, Length: 3000, dtype: float64"
      ]
     },
     "execution_count": 14,
     "metadata": {},
     "output_type": "execute_result"
    }
   ],
   "source": [
    "df.x1"
   ]
  },
  {
   "cell_type": "code",
   "execution_count": 13,
   "id": "39426fb4",
   "metadata": {},
   "outputs": [
    {
     "data": {
      "text/plain": [
       "array([ 1.12846035, -1.00467931, -0.76463564,  1.30553828, -2.33334155,\n",
       "       -2.08585285,  0.10388005, -0.31757834, -0.51046417, -0.0797416 ,\n",
       "        0.73579454, -1.43867035,  0.66891259,  1.02649313, -0.86995629,\n",
       "       -0.47263321,  1.36698138,  0.45330081,  0.31100251, -1.94782025,\n",
       "       -0.58400586,  1.64225104,  1.77757105, -0.72872685, -0.17455313])"
      ]
     },
     "execution_count": 13,
     "metadata": {},
     "output_type": "execute_result"
    }
   ],
   "source": []
  },
  {
   "cell_type": "code",
   "execution_count": 76,
   "id": "0d6a26c6",
   "metadata": {},
   "outputs": [
    {
     "data": {
      "text/plain": [
       "Text(0, 0.5, 'Feature 2')"
      ]
     },
     "execution_count": 76,
     "metadata": {},
     "output_type": "execute_result"
    },
    {
     "data": {
      "image/png": "[encoded data removed]",
      "text/plain": [
       "<Figure size 500x400 with 1 Axes>"
      ]
     },
     "metadata": {},
     "output_type": "display_data"
    }
   ],
   "source": [
    "plt.figure(figsize=(5,4))\n",
    "plt.scatter(df.x1,df.x2)\n",
    "plt.xlabel(\"Feature 1\")\n",
    "plt.ylabel(\"Feature 2\")"
   ]
  },
  {
   "cell_type": "code",
   "execution_count": 77,
   "id": "a10d2c60",
   "metadata": {},
   "outputs": [
    {
     "data": {
      "text/plain": [
       "Text(0, 0.5, 'Feature 4')"
      ]
     },
     "execution_count": 77,
     "metadata": {},
     "output_type": "execute_result"
    },
    {
     "data": {
      "image/png": "[encoded data removed]",
      "text/plain": [
       "<Figure size 500x400 with 1 Axes>"
      ]
     },
     "metadata": {},
     "output_type": "display_data"
    }
   ],
   "source": [
    "plt.figure(figsize=(5,4))\n",
    "plt.scatter(df.x3,df.x4)\n",
    "plt.xlabel(\"Feature 3\")\n",
    "plt.ylabel(\"Feature 4\")"
   ]
  },
  {
   "cell_type": "code",
   "execution_count": 78,
   "id": "3191de23",
   "metadata": {},
   "outputs": [
    {
     "data": {
      "text/plain": [
       "Text(0, 0.5, 'Feature 5')"
      ]
     },
     "execution_count": 78,
     "metadata": {},
     "output_type": "execute_result"
    },
    {
     "data": {
      "image/png": "[encoded data removed]",
      "text/plain": [
       "<Figure size 500x400 with 1 Axes>"
      ]
     },
     "metadata": {},
     "output_type": "display_data"
    }
   ],
   "source": [
    "plt.figure(figsize=(5,4))\n",
    "plt.scatter(df.x4,df.x5)\n",
    "plt.xlabel(\"Feature 4\")\n",
    "plt.ylabel(\"Feature 5\")"
   ]
  },
  {
   "cell_type": "code",
   "execution_count": 79,
   "id": "48b98852",
   "metadata": {},
   "outputs": [
    {
     "data": {
      "text/plain": [
       "Text(0, 0.5, 'Feature 7')"
      ]
     },
     "execution_count": 79,
     "metadata": {},
     "output_type": "execute_result"
    },
    {
     "data": {
      "image/png": "[encoded data removed]",
      "text/plain": [
       "<Figure size 500x400 with 1 Axes>"
      ]
     },
     "metadata": {},
     "output_type": "display_data"
    }
   ],
   "source": [
    "plt.figure(figsize=(5,4))\n",
    "plt.scatter(df.x6,df.x7)\n",
    "plt.xlabel(\"Feature 6\")\n",
    "plt.ylabel(\"Feature 7\")"
   ]
  },
  {
   "cell_type": "code",
   "execution_count": 80,
   "id": "0d7be7d9",
   "metadata": {},
   "outputs": [
    {
     "data": {
      "text/plain": [
       "Text(0, 0.5, 'Feature 9')"
      ]
     },
     "execution_count": 80,
     "metadata": {},
     "output_type": "execute_result"
    },
    {
     "data": {
      "image/png": "[encoded data removed]",
      "text/plain": [
       "<Figure size 500x400 with 1 Axes>"
      ]
     },
     "metadata": {},
     "output_type": "display_data"
    }
   ],
   "source": [
    "plt.figure(figsize=(5,4))\n",
    "plt.scatter(df.x8,df.x9)\n",
    "plt.xlabel(\"Feature 8\")\n",
    "plt.ylabel(\"Feature 9\")"
   ]
  },
  {
   "cell_type": "code",
   "execution_count": 81,
   "id": "58a7e8b5",
   "metadata": {},
   "outputs": [
    {
     "data": {
      "text/plain": [
       "Text(0, 0.5, 'Feature 25')"
      ]
     },
     "execution_count": 81,
     "metadata": {},
     "output_type": "execute_result"
    },
    {
     "data": {
      "image/png": "[encoded data removed]",
      "text/plain": [
       "<Figure size 500x400 with 1 Axes>"
      ]
     },
     "metadata": {},
     "output_type": "display_data"
    }
   ],
   "source": [
    "plt.figure(figsize=(5,4))\n",
    "plt.scatter(df.x24,df.x25)\n",
    "plt.xlabel(\"Feature 24\")\n",
    "plt.ylabel(\"Feature 25\")"
   ]
  },
  {
   "cell_type": "code",
   "execution_count": 25,
   "id": "294e9107",
   "metadata": {},
   "outputs": [],
   "source": [
    "from sklearn.cluster import KMeans"
   ]
  },
  {
   "cell_type": "code",
   "execution_count": null,
   "id": "ba14cb06",
   "metadata": {},
   "outputs": [],
   "source": []
  },
  {
   "cell_type": "code",
   "execution_count": 26,
   "id": "d511d1b0",
   "metadata": {},
   "outputs": [],
   "source": [
    "kmeans = KMeans(n_clusters=10, random_state=0).fit(X)\n",
    "lab = kmeans.labels_"
   ]
  },
  {
   "cell_type": "code",
   "execution_count": 27,
   "id": "c7c6f864",
   "metadata": {},
   "outputs": [],
   "source": [
    "zero=[]\n",
    "for i in range(3000):\n",
    "    if lab[i]==0:\n",
    "        z = y[i]\n",
    "        \n",
    "        zero.append(z)"
   ]
  },
  {
   "cell_type": "code",
   "execution_count": 28,
   "id": "4e7a2db5",
   "metadata": {},
   "outputs": [],
   "source": [
    "def most_frequent(List):\n",
    "    counter = 0\n",
    "    num = List[0]\n",
    "     \n",
    "    for i in List:\n",
    "        curr_frequency = List.count(i)\n",
    "        if(curr_frequency> counter):\n",
    "            counter = curr_frequency\n",
    "            num = i\n",
    " \n",
    "    return num"
   ]
  },
  {
   "cell_type": "code",
   "execution_count": null,
   "id": "2927f24d",
   "metadata": {},
   "outputs": [],
   "source": []
  },
  {
   "cell_type": "code",
   "execution_count": 29,
   "id": "d0ab42c0",
   "metadata": {},
   "outputs": [
    {
     "name": "stdout",
     "output_type": "stream",
     "text": [
      "2\n"
     ]
    }
   ],
   "source": [
    "print(most_frequent(zero))"
   ]
  },
  {
   "cell_type": "markdown",
   "id": "3fe8af66",
   "metadata": {},
   "source": [
    "Label 0 is 2"
   ]
  },
  {
   "cell_type": "code",
   "execution_count": 32,
   "id": "18e5c39b",
   "metadata": {},
   "outputs": [],
   "source": [
    "k=0\n",
    "for i in range(3000):\n",
    "    if lab[i]==0:\n",
    "        if y[i]==2:\n",
    "            k = k + 1\n",
    "        \n",
    "        "
   ]
  },
  {
   "cell_type": "code",
   "execution_count": 33,
   "id": "566016b1",
   "metadata": {},
   "outputs": [
    {
     "data": {
      "text/plain": [
       "219"
      ]
     },
     "execution_count": 33,
     "metadata": {},
     "output_type": "execute_result"
    }
   ],
   "source": [
    "k"
   ]
  },
  {
   "cell_type": "code",
   "execution_count": 34,
   "id": "56f6c379",
   "metadata": {},
   "outputs": [
    {
     "data": {
      "text/plain": [
       "273"
      ]
     },
     "execution_count": 34,
     "metadata": {},
     "output_type": "execute_result"
    }
   ],
   "source": [
    "np.size(zero)"
   ]
  },
  {
   "cell_type": "code",
   "execution_count": 35,
   "id": "954acea3",
   "metadata": {},
   "outputs": [],
   "source": [
    "one=[]\n",
    "for i in range(3000):\n",
    "    if lab[i]==1:\n",
    "        z = y[i]\n",
    "        \n",
    "        one.append(z)"
   ]
  },
  {
   "cell_type": "code",
   "execution_count": 22,
   "id": "5bf6b659",
   "metadata": {},
   "outputs": [
    {
     "data": {
      "text/plain": [
       "<matplotlib.image.AxesImage at 0x266804fa820>"
      ]
     },
     "execution_count": 22,
     "metadata": {},
     "output_type": "execute_result"
    },
    {
     "data": {
      "image/png": "[encoded data removed]",
      "text/plain": [
       "<Figure size 640x480 with 1 Axes>"
      ]
     },
     "metadata": {},
     "output_type": "display_data"
    }
   ],
   "source": [
    "plt.imshow(x[2679].reshape((28,28)))"
   ]
  },
  {
   "cell_type": "code",
   "execution_count": 36,
   "id": "65bbde49",
   "metadata": {},
   "outputs": [
    {
     "name": "stdout",
     "output_type": "stream",
     "text": [
      "8\n"
     ]
    }
   ],
   "source": [
    "print(most_frequent(one))"
   ]
  },
  {
   "cell_type": "markdown",
   "id": "099aab70",
   "metadata": {},
   "source": [
    "Label 1 is 8"
   ]
  },
  {
   "cell_type": "code",
   "execution_count": 37,
   "id": "d892b7f8",
   "metadata": {},
   "outputs": [],
   "source": [
    "k=0\n",
    "for i in range(3000):\n",
    "    if lab[i]==1:\n",
    "        if y[i]==8:\n",
    "            k = k + 1\n",
    "        \n",
    "        "
   ]
  },
  {
   "cell_type": "code",
   "execution_count": 38,
   "id": "4a35460f",
   "metadata": {},
   "outputs": [
    {
     "data": {
      "text/plain": [
       "130"
      ]
     },
     "execution_count": 38,
     "metadata": {},
     "output_type": "execute_result"
    }
   ],
   "source": [
    "k"
   ]
  },
  {
   "cell_type": "code",
   "execution_count": 39,
   "id": "90e22a11",
   "metadata": {},
   "outputs": [
    {
     "data": {
      "text/plain": [
       "298"
      ]
     },
     "execution_count": 39,
     "metadata": {},
     "output_type": "execute_result"
    }
   ],
   "source": [
    "np.size(one)"
   ]
  },
  {
   "cell_type": "code",
   "execution_count": 40,
   "id": "137bfb04",
   "metadata": {},
   "outputs": [],
   "source": [
    "two=[]\n",
    "for i in range(3000):\n",
    "    if lab[i]==2:\n",
    "        z = y[i]\n",
    "        two.append(z)"
   ]
  },
  {
   "cell_type": "code",
   "execution_count": 41,
   "id": "6291ade0",
   "metadata": {},
   "outputs": [
    {
     "name": "stdout",
     "output_type": "stream",
     "text": [
      "0\n"
     ]
    }
   ],
   "source": [
    "print(most_frequent(two))"
   ]
  },
  {
   "cell_type": "markdown",
   "id": "01d40c35",
   "metadata": {},
   "source": [
    "Label 2 is 0"
   ]
  },
  {
   "cell_type": "code",
   "execution_count": 42,
   "id": "614d8efa",
   "metadata": {},
   "outputs": [],
   "source": [
    "k=0\n",
    "for i in range(3000):\n",
    "    if lab[i]==2:\n",
    "        if y[i]==0:\n",
    "            k = k + 1\n",
    "        \n",
    "        "
   ]
  },
  {
   "cell_type": "code",
   "execution_count": 43,
   "id": "41d3de83",
   "metadata": {},
   "outputs": [
    {
     "data": {
      "text/plain": [
       "209"
      ]
     },
     "execution_count": 43,
     "metadata": {},
     "output_type": "execute_result"
    }
   ],
   "source": [
    "k"
   ]
  },
  {
   "cell_type": "code",
   "execution_count": 44,
   "id": "a1ab5728",
   "metadata": {},
   "outputs": [
    {
     "data": {
      "text/plain": [
       "233"
      ]
     },
     "execution_count": 44,
     "metadata": {},
     "output_type": "execute_result"
    }
   ],
   "source": [
    "np.size(two)"
   ]
  },
  {
   "cell_type": "code",
   "execution_count": 45,
   "id": "a90bac3b",
   "metadata": {},
   "outputs": [],
   "source": [
    "three=[]\n",
    "for i in range(3000):\n",
    "    if lab[i]==3:\n",
    "        z = y[i]\n",
    "        three.append(z)"
   ]
  },
  {
   "cell_type": "code",
   "execution_count": 46,
   "id": "8a44a896",
   "metadata": {},
   "outputs": [
    {
     "name": "stdout",
     "output_type": "stream",
     "text": [
      "1\n"
     ]
    }
   ],
   "source": [
    "print(most_frequent(three))"
   ]
  },
  {
   "cell_type": "markdown",
   "id": "bf9676cd",
   "metadata": {},
   "source": [
    "Label 3 is 1"
   ]
  },
  {
   "cell_type": "code",
   "execution_count": 47,
   "id": "acda9f97",
   "metadata": {},
   "outputs": [
    {
     "data": {
      "text/plain": [
       "183"
      ]
     },
     "execution_count": 47,
     "metadata": {},
     "output_type": "execute_result"
    }
   ],
   "source": [
    "k=0\n",
    "for i in range(3000):\n",
    "    if lab[i]==3:\n",
    "        if y[i]==1:\n",
    "            k = k + 1\n",
    "\n",
    "k\n",
    "        "
   ]
  },
  {
   "cell_type": "code",
   "execution_count": 48,
   "id": "2ed4117a",
   "metadata": {},
   "outputs": [
    {
     "data": {
      "text/plain": [
       "223"
      ]
     },
     "execution_count": 48,
     "metadata": {},
     "output_type": "execute_result"
    }
   ],
   "source": [
    "np.size(three)"
   ]
  },
  {
   "cell_type": "code",
   "execution_count": 49,
   "id": "2fc876d7",
   "metadata": {},
   "outputs": [],
   "source": [
    "four=[]\n",
    "for i in range(3000):\n",
    "    if lab[i]==4:\n",
    "        z = y[i]\n",
    "        four.append(z)"
   ]
  },
  {
   "cell_type": "code",
   "execution_count": 50,
   "id": "12bcd51c",
   "metadata": {},
   "outputs": [
    {
     "name": "stdout",
     "output_type": "stream",
     "text": [
      "3\n"
     ]
    }
   ],
   "source": [
    "print(most_frequent(four))"
   ]
  },
  {
   "cell_type": "markdown",
   "id": "2ece64ea",
   "metadata": {},
   "source": [
    "Label 4 is 3"
   ]
  },
  {
   "cell_type": "code",
   "execution_count": 51,
   "id": "f80a4b2a",
   "metadata": {},
   "outputs": [
    {
     "data": {
      "text/plain": [
       "216"
      ]
     },
     "execution_count": 51,
     "metadata": {},
     "output_type": "execute_result"
    }
   ],
   "source": [
    "k=0\n",
    "for i in range(3000):\n",
    "    if lab[i]==4:\n",
    "        if y[i]==3:\n",
    "            k = k + 1\n",
    "k\n",
    "        "
   ]
  },
  {
   "cell_type": "code",
   "execution_count": 52,
   "id": "a395e4ca",
   "metadata": {},
   "outputs": [
    {
     "data": {
      "text/plain": [
       "401"
      ]
     },
     "execution_count": 52,
     "metadata": {},
     "output_type": "execute_result"
    }
   ],
   "source": [
    "np.size(four)"
   ]
  },
  {
   "cell_type": "code",
   "execution_count": 53,
   "id": "a65cff88",
   "metadata": {},
   "outputs": [],
   "source": [
    "five=[]\n",
    "for i in range(3000):\n",
    "    if lab[i]==5:\n",
    "        z = y[i]\n",
    "        #print(i)\n",
    "        five.append(z)"
   ]
  },
  {
   "cell_type": "code",
   "execution_count": 104,
   "id": "d2024727",
   "metadata": {},
   "outputs": [
    {
     "data": {
      "text/plain": [
       "<matplotlib.image.AxesImage at 0x29c41b5a340>"
      ]
     },
     "execution_count": 104,
     "metadata": {},
     "output_type": "execute_result"
    },
    {
     "data": {
      "image/png": "[encoded data removed]",
      "text/plain": [
       "<Figure size 640x480 with 1 Axes>"
      ]
     },
     "metadata": {},
     "output_type": "display_data"
    }
   ],
   "source": [
    "plt.imshow(x[293].reshape((28,28)))"
   ]
  },
  {
   "cell_type": "code",
   "execution_count": 105,
   "id": "2d2c0134",
   "metadata": {},
   "outputs": [
    {
     "data": {
      "text/plain": [
       "<matplotlib.image.AxesImage at 0x29c41bbc3d0>"
      ]
     },
     "execution_count": 105,
     "metadata": {},
     "output_type": "execute_result"
    },
    {
     "data": {
      "image/png": "[encoded data removed]",
      "text/plain": [
       "<Figure size 640x480 with 1 Axes>"
      ]
     },
     "metadata": {},
     "output_type": "display_data"
    }
   ],
   "source": [
    "plt.imshow(x[833].reshape((28,28)))"
   ]
  },
  {
   "cell_type": "code",
   "execution_count": 106,
   "id": "f3fc4606",
   "metadata": {},
   "outputs": [
    {
     "data": {
      "text/plain": [
       "<matplotlib.image.AxesImage at 0x29c41c29370>"
      ]
     },
     "execution_count": 106,
     "metadata": {},
     "output_type": "execute_result"
    },
    {
     "data": {
      "image/png": "[encoded data removed]",
      "text/plain": [
       "<Figure size 640x480 with 1 Axes>"
      ]
     },
     "metadata": {},
     "output_type": "display_data"
    }
   ],
   "source": [
    "plt.imshow(x[1664].reshape((28,28)))"
   ]
  },
  {
   "cell_type": "code",
   "execution_count": 54,
   "id": "43b2f8a7",
   "metadata": {},
   "outputs": [
    {
     "name": "stdout",
     "output_type": "stream",
     "text": [
      "6\n"
     ]
    }
   ],
   "source": [
    "print(most_frequent(five))"
   ]
  },
  {
   "cell_type": "code",
   "execution_count": null,
   "id": "203c1a9b",
   "metadata": {},
   "outputs": [],
   "source": []
  },
  {
   "cell_type": "markdown",
   "id": "f407cbff",
   "metadata": {},
   "source": [
    "Label 5 is 6"
   ]
  },
  {
   "cell_type": "code",
   "execution_count": 55,
   "id": "7716a25f",
   "metadata": {},
   "outputs": [
    {
     "data": {
      "text/plain": [
       "137"
      ]
     },
     "execution_count": 55,
     "metadata": {},
     "output_type": "execute_result"
    }
   ],
   "source": [
    "k=0\n",
    "for i in range(3000):\n",
    "    if lab[i]==5:\n",
    "        if y[i]==6:\n",
    "            k = k + 1\n",
    "k      \n",
    "        "
   ]
  },
  {
   "cell_type": "code",
   "execution_count": 56,
   "id": "d6d780fe",
   "metadata": {},
   "outputs": [
    {
     "data": {
      "text/plain": [
       "286"
      ]
     },
     "execution_count": 56,
     "metadata": {},
     "output_type": "execute_result"
    }
   ],
   "source": [
    "np.size(five)"
   ]
  },
  {
   "cell_type": "code",
   "execution_count": 57,
   "id": "19204fb3",
   "metadata": {},
   "outputs": [],
   "source": [
    "six=[]\n",
    "for i in range(3000):\n",
    "    if lab[i]==6:\n",
    "        z = y[i]\n",
    "        six.append(z)"
   ]
  },
  {
   "cell_type": "code",
   "execution_count": 58,
   "id": "3b4a2b4e",
   "metadata": {},
   "outputs": [
    {
     "name": "stdout",
     "output_type": "stream",
     "text": [
      "8\n"
     ]
    }
   ],
   "source": [
    "print(most_frequent(six))"
   ]
  },
  {
   "cell_type": "markdown",
   "id": "e4c31bf5",
   "metadata": {},
   "source": [
    "Label 6 is 8"
   ]
  },
  {
   "cell_type": "code",
   "execution_count": 59,
   "id": "568c97f0",
   "metadata": {},
   "outputs": [
    {
     "data": {
      "text/plain": [
       "93"
      ]
     },
     "execution_count": 59,
     "metadata": {},
     "output_type": "execute_result"
    }
   ],
   "source": [
    "k=0\n",
    "for i in range(3000):\n",
    "    if lab[i]==6:\n",
    "        if y[i]==8:\n",
    "            k = k + 1\n",
    "        \n",
    "k    "
   ]
  },
  {
   "cell_type": "code",
   "execution_count": 60,
   "id": "c2efb1cd",
   "metadata": {},
   "outputs": [
    {
     "data": {
      "text/plain": [
       "317"
      ]
     },
     "execution_count": 60,
     "metadata": {},
     "output_type": "execute_result"
    }
   ],
   "source": [
    "np.size(six)"
   ]
  },
  {
   "cell_type": "code",
   "execution_count": 61,
   "id": "ca6d2134",
   "metadata": {},
   "outputs": [],
   "source": [
    "seven=[]\n",
    "for i in range(3000):\n",
    "    if lab[i]==7:\n",
    "        z = y[i]\n",
    "        #print(i)\n",
    "        seven.append(z)"
   ]
  },
  {
   "cell_type": "code",
   "execution_count": 62,
   "id": "372d03f0",
   "metadata": {},
   "outputs": [
    {
     "name": "stdout",
     "output_type": "stream",
     "text": [
      "7\n"
     ]
    }
   ],
   "source": [
    "print(most_frequent(seven))"
   ]
  },
  {
   "cell_type": "code",
   "execution_count": 17,
   "id": "881baa8d",
   "metadata": {},
   "outputs": [
    {
     "data": {
      "text/plain": [
       "<matplotlib.image.AxesImage at 0x266802ea8b0>"
      ]
     },
     "execution_count": 17,
     "metadata": {},
     "output_type": "execute_result"
    },
    {
     "data": {
      "image/png": "[encoded data removed]",
      "text/plain": [
       "<Figure size 640x480 with 1 Axes>"
      ]
     },
     "metadata": {},
     "output_type": "display_data"
    }
   ],
   "source": [
    "plt.imshow(x[2692].reshape((28,28)))"
   ]
  },
  {
   "cell_type": "markdown",
   "id": "71e7878a",
   "metadata": {},
   "source": [
    "Label 7 is 7"
   ]
  },
  {
   "cell_type": "code",
   "execution_count": 63,
   "id": "1f537691",
   "metadata": {},
   "outputs": [
    {
     "data": {
      "text/plain": [
       "148"
      ]
     },
     "execution_count": 63,
     "metadata": {},
     "output_type": "execute_result"
    }
   ],
   "source": [
    "k=0\n",
    "for i in range(3000):\n",
    "    if lab[i]==7:\n",
    "        if y[i]==7:\n",
    "            k = k + 1\n",
    "k     \n",
    "        "
   ]
  },
  {
   "cell_type": "code",
   "execution_count": 64,
   "id": "d4e1f1f0",
   "metadata": {},
   "outputs": [
    {
     "data": {
      "text/plain": [
       "346"
      ]
     },
     "execution_count": 64,
     "metadata": {},
     "output_type": "execute_result"
    }
   ],
   "source": [
    "np.size(seven)"
   ]
  },
  {
   "cell_type": "code",
   "execution_count": 65,
   "id": "1c7f48c7",
   "metadata": {},
   "outputs": [],
   "source": [
    "eight=[]\n",
    "for i in range(3000):\n",
    "    if lab[i]==8:\n",
    "        z = y[i]\n",
    "        eight.append(z)"
   ]
  },
  {
   "cell_type": "code",
   "execution_count": 66,
   "id": "243f92d6",
   "metadata": {},
   "outputs": [
    {
     "name": "stdout",
     "output_type": "stream",
     "text": [
      "6\n"
     ]
    }
   ],
   "source": [
    "print(most_frequent(eight))"
   ]
  },
  {
   "cell_type": "markdown",
   "id": "40b6a432",
   "metadata": {},
   "source": [
    "Label 8 is 6"
   ]
  },
  {
   "cell_type": "code",
   "execution_count": 67,
   "id": "4aaa29dd",
   "metadata": {},
   "outputs": [
    {
     "data": {
      "text/plain": [
       "150"
      ]
     },
     "execution_count": 67,
     "metadata": {},
     "output_type": "execute_result"
    }
   ],
   "source": [
    "k=0\n",
    "for i in range(3000):\n",
    "    if lab[i]==8:\n",
    "        if y[i]==6:\n",
    "            k = k + 1\n",
    "k      \n",
    "        "
   ]
  },
  {
   "cell_type": "code",
   "execution_count": 68,
   "id": "5a4d2fe6",
   "metadata": {},
   "outputs": [
    {
     "data": {
      "text/plain": [
       "196"
      ]
     },
     "execution_count": 68,
     "metadata": {},
     "output_type": "execute_result"
    }
   ],
   "source": [
    "np.size(eight)"
   ]
  },
  {
   "cell_type": "code",
   "execution_count": 69,
   "id": "028bc00c",
   "metadata": {},
   "outputs": [],
   "source": [
    "nine=[]\n",
    "for i in range(3000):\n",
    "    if lab[i]==9:\n",
    "        z = y[i]\n",
    "        nine.append(z)"
   ]
  },
  {
   "cell_type": "code",
   "execution_count": 70,
   "id": "28b41db9",
   "metadata": {},
   "outputs": [
    {
     "name": "stdout",
     "output_type": "stream",
     "text": [
      "4\n"
     ]
    }
   ],
   "source": [
    "print(most_frequent(nine))"
   ]
  },
  {
   "cell_type": "markdown",
   "id": "de15cb3a",
   "metadata": {},
   "source": [
    "Label 9 is 4"
   ]
  },
  {
   "cell_type": "code",
   "execution_count": 71,
   "id": "cd36e094",
   "metadata": {},
   "outputs": [
    {
     "data": {
      "text/plain": [
       "157"
      ]
     },
     "execution_count": 71,
     "metadata": {},
     "output_type": "execute_result"
    }
   ],
   "source": [
    "k=0\n",
    "for i in range(3000):\n",
    "    if lab[i]==9:\n",
    "        if y[i]==4:\n",
    "            k = k + 1\n",
    "k       \n",
    "        "
   ]
  },
  {
   "cell_type": "code",
   "execution_count": 72,
   "id": "1cfcc492",
   "metadata": {},
   "outputs": [
    {
     "data": {
      "text/plain": [
       "427"
      ]
     },
     "execution_count": 72,
     "metadata": {},
     "output_type": "execute_result"
    }
   ],
   "source": [
    "np.size(nine)"
   ]
  },
  {
   "cell_type": "code",
   "execution_count": 138,
   "id": "f42b8135",
   "metadata": {},
   "outputs": [
    {
     "data": {
      "text/plain": [
       "0.607"
      ]
     },
     "execution_count": 138,
     "metadata": {},
     "output_type": "execute_result"
    }
   ],
   "source": [
    "accuracy = (167+124+142+294+130+194+222+198+212+138)/(354+297+153+472+168+350+262+361+224+359)\n",
    "accuracy"
   ]
  },
  {
   "cell_type": "code",
   "execution_count": 10,
   "id": "61fa227c",
   "metadata": {},
   "outputs": [],
   "source": [
    "pre = kmeans.predict(X)"
   ]
  },
  {
   "cell_type": "code",
   "execution_count": 16,
   "id": "9da54511",
   "metadata": {},
   "outputs": [
    {
     "data": {
      "text/plain": [
       "array([[0., 0., 0., ..., 0., 0., 0.],\n",
       "       [0., 0., 0., ..., 0., 0., 0.],\n",
       "       [0., 0., 0., ..., 0., 0., 0.],\n",
       "       ...,\n",
       "       [0., 0., 0., ..., 0., 0., 0.],\n",
       "       [0., 0., 0., ..., 0., 0., 0.],\n",
       "       [0., 0., 0., ..., 0., 0., 0.]])"
      ]
     },
     "execution_count": 16,
     "metadata": {},
     "output_type": "execute_result"
    }
   ],
   "source": [
    "kmeans.cluster_centers_"
   ]
  },
  {
   "cell_type": "code",
   "execution_count": 57,
   "id": "0db5a187",
   "metadata": {},
   "outputs": [],
   "source": [
    "a = np.arange(6).reshape((3, 2))"
   ]
  },
  {
   "cell_type": "code",
   "execution_count": 13,
   "id": "dd86b9de",
   "metadata": {},
   "outputs": [],
   "source": [
    "x = X.to_numpy()"
   ]
  },
  {
   "cell_type": "code",
   "execution_count": 98,
   "id": "3420782b",
   "metadata": {},
   "outputs": [],
   "source": [
    "a = x[0].reshape((28,28))"
   ]
  },
  {
   "cell_type": "code",
   "execution_count": 99,
   "id": "c6d1c6d7",
   "metadata": {},
   "outputs": [
    {
     "data": {
      "text/plain": [
       "<matplotlib.image.AxesImage at 0x29c41abe490>"
      ]
     },
     "execution_count": 99,
     "metadata": {},
     "output_type": "execute_result"
    },
    {
     "data": {
      "image/png": "[encoded data removed]",
      "text/plain": [
       "<Figure size 640x480 with 1 Axes>"
      ]
     },
     "metadata": {},
     "output_type": "display_data"
    }
   ],
   "source": [
    "plt.imshow(a)"
   ]
  },
  {
   "cell_type": "code",
   "execution_count": null,
   "id": "75b41b12",
   "metadata": {},
   "outputs": [],
   "source": []
  }
 ],
 "metadata": {
  "kernelspec": {
   "display_name": "Python 3 (ipykernel)",
   "language": "python",
   "name": "python3"
  },
  "language_info": {
   "codemirror_mode": {
    "name": "ipython",
    "version": 3
   },
   "file_extension": ".py",
   "mimetype": "text/x-python",
   "name": "python",
   "nbconvert_exporter": "python",
   "pygments_lexer": "ipython3",
   "version": "3.9.13"
  }
 },
 "nbformat": 4,
 "nbformat_minor": 5
}
