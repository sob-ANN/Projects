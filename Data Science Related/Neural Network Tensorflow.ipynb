{
  "cells": [
    {
      "cell_type": "code",
      "execution_count": 1,
      "id": "f3d57164",
      "metadata": {
        "id": "f3d57164"
      },
      "outputs": [],
      "source": [
        "import tensorflow as tf\n",
        "from tensorflow import keras\n",
        "import numpy as np\n",
        "import pandas as pd\n",
        "import matplotlib.pyplot as plt"
      ]
    },
    {
      "cell_type": "code",
      "execution_count": null,
      "id": "8af1e460",
      "metadata": {
        "id": "8af1e460"
      },
      "outputs": [],
      "source": [
        "# Load the TensorBoard notebook extension"
      ]
    },
    {
      "cell_type": "code",
      "execution_count": 10,
      "id": "d884f024",
      "metadata": {
        "colab": {
          "base_uri": "https://localhost:8080/",
          "height": 424
        },
        "id": "d884f024",
        "outputId": "7ddaf257-e9ea-460c-bfe6-00d5f736b04f"
      },
      "outputs": [
        {
          "output_type": "execute_result",
          "data": {
            "text/plain": [
              "      0    1    2    3    4    5    6    7    8    9    ...  775  776  777  \\\n",
              "0       0    0    0    0    0    0    0    0    0    0  ...    0    0    0   \n",
              "1       0    0    0    0    0    0    0    0    0    0  ...    0    0    0   \n",
              "2       0    0    0    0    0    0    0    0    0    0  ...    0    0    0   \n",
              "3       0    0    0    0    0    0    0    0    0    0  ...    0    0    0   \n",
              "4       0    0    0    0    0    0    0    0    0    0  ...    0    0    0   \n",
              "...   ...  ...  ...  ...  ...  ...  ...  ...  ...  ...  ...  ...  ...  ...   \n",
              "2995    0    0    0    0    0    0    0    0    0    0  ...    0    0    0   \n",
              "2996    0    0    0    0    0    0    0    0    0    0  ...    0    0    0   \n",
              "2997    0    0    0    0    0    0    0    0    0    0  ...    0    0    0   \n",
              "2998    0    0    0    0    0    0    0    0    0    0  ...    0    0    0   \n",
              "2999    0    0    0    0    0    0    0    0    0    0  ...    0    0    0   \n",
              "\n",
              "      778  779  780  781  782  783  784  \n",
              "0       0    0    0    0    0    0    0  \n",
              "1       0    0    0    0    0    0    0  \n",
              "2       0    0    0    0    0    0    0  \n",
              "3       0    0    0    0    0    0    0  \n",
              "4       0    0    0    0    0    0    0  \n",
              "...   ...  ...  ...  ...  ...  ...  ...  \n",
              "2995    0    0    0    0    0    0    9  \n",
              "2996    0    0    0    0    0    0    9  \n",
              "2997    0    0    0    0    0    0    9  \n",
              "2998    0    0    0    0    0    0    9  \n",
              "2999    0    0    0    0    0    0    9  \n",
              "\n",
              "[3000 rows x 785 columns]"
            ],
            "text/html": [
              "\n",
              "  <div id=\"df-62b59242-2a3e-4292-94a1-71b2408a4aaf\" class=\"colab-df-container\">\n",
              "    <div>\n",
              "<style scoped>\n",
              "    .dataframe tbody tr th:only-of-type {\n",
              "        vertical-align: middle;\n",
              "    }\n",
              "\n",
              "    .dataframe tbody tr th {\n",
              "        vertical-align: top;\n",
              "    }\n",
              "\n",
              "    .dataframe thead th {\n",
              "        text-align: right;\n",
              "    }\n",
              "</style>\n",
              "<table border=\"1\" class=\"dataframe\">\n",
              "  <thead>\n",
              "    <tr style=\"text-align: right;\">\n",
              "      <th></th>\n",
              "      <th>0</th>\n",
              "      <th>1</th>\n",
              "      <th>2</th>\n",
              "      <th>3</th>\n",
              "      <th>4</th>\n",
              "      <th>5</th>\n",
              "      <th>6</th>\n",
              "      <th>7</th>\n",
              "      <th>8</th>\n",
              "      <th>9</th>\n",
              "      <th>...</th>\n",
              "      <th>775</th>\n",
              "      <th>776</th>\n",
              "      <th>777</th>\n",
              "      <th>778</th>\n",
              "      <th>779</th>\n",
              "      <th>780</th>\n",
              "      <th>781</th>\n",
              "      <th>782</th>\n",
              "      <th>783</th>\n",
              "      <th>784</th>\n",
              "    </tr>\n",
              "  </thead>\n",
              "  <tbody>\n",
              "    <tr>\n",
              "      <th>0</th>\n",
              "      <td>0</td>\n",
              "      <td>0</td>\n",
              "      <td>0</td>\n",
              "      <td>0</td>\n",
              "      <td>0</td>\n",
              "      <td>0</td>\n",
              "      <td>0</td>\n",
              "      <td>0</td>\n",
              "      <td>0</td>\n",
              "      <td>0</td>\n",
              "      <td>...</td>\n",
              "      <td>0</td>\n",
              "      <td>0</td>\n",
              "      <td>0</td>\n",
              "      <td>0</td>\n",
              "      <td>0</td>\n",
              "      <td>0</td>\n",
              "      <td>0</td>\n",
              "      <td>0</td>\n",
              "      <td>0</td>\n",
              "      <td>0</td>\n",
              "    </tr>\n",
              "    <tr>\n",
              "      <th>1</th>\n",
              "      <td>0</td>\n",
              "      <td>0</td>\n",
              "      <td>0</td>\n",
              "      <td>0</td>\n",
              "      <td>0</td>\n",
              "      <td>0</td>\n",
              "      <td>0</td>\n",
              "      <td>0</td>\n",
              "      <td>0</td>\n",
              "      <td>0</td>\n",
              "      <td>...</td>\n",
              "      <td>0</td>\n",
              "      <td>0</td>\n",
              "      <td>0</td>\n",
              "      <td>0</td>\n",
              "      <td>0</td>\n",
              "      <td>0</td>\n",
              "      <td>0</td>\n",
              "      <td>0</td>\n",
              "      <td>0</td>\n",
              "      <td>0</td>\n",
              "    </tr>\n",
              "    <tr>\n",
              "      <th>2</th>\n",
              "      <td>0</td>\n",
              "      <td>0</td>\n",
              "      <td>0</td>\n",
              "      <td>0</td>\n",
              "      <td>0</td>\n",
              "      <td>0</td>\n",
              "      <td>0</td>\n",
              "      <td>0</td>\n",
              "      <td>0</td>\n",
              "      <td>0</td>\n",
              "      <td>...</td>\n",
              "      <td>0</td>\n",
              "      <td>0</td>\n",
              "      <td>0</td>\n",
              "      <td>0</td>\n",
              "      <td>0</td>\n",
              "      <td>0</td>\n",
              "      <td>0</td>\n",
              "      <td>0</td>\n",
              "      <td>0</td>\n",
              "      <td>0</td>\n",
              "    </tr>\n",
              "    <tr>\n",
              "      <th>3</th>\n",
              "      <td>0</td>\n",
              "      <td>0</td>\n",
              "      <td>0</td>\n",
              "      <td>0</td>\n",
              "      <td>0</td>\n",
              "      <td>0</td>\n",
              "      <td>0</td>\n",
              "      <td>0</td>\n",
              "      <td>0</td>\n",
              "      <td>0</td>\n",
              "      <td>...</td>\n",
              "      <td>0</td>\n",
              "      <td>0</td>\n",
              "      <td>0</td>\n",
              "      <td>0</td>\n",
              "      <td>0</td>\n",
              "      <td>0</td>\n",
              "      <td>0</td>\n",
              "      <td>0</td>\n",
              "      <td>0</td>\n",
              "      <td>0</td>\n",
              "    </tr>\n",
              "    <tr>\n",
              "      <th>4</th>\n",
              "      <td>0</td>\n",
              "      <td>0</td>\n",
              "      <td>0</td>\n",
              "      <td>0</td>\n",
              "      <td>0</td>\n",
              "      <td>0</td>\n",
              "      <td>0</td>\n",
              "      <td>0</td>\n",
              "      <td>0</td>\n",
              "      <td>0</td>\n",
              "      <td>...</td>\n",
              "      <td>0</td>\n",
              "      <td>0</td>\n",
              "      <td>0</td>\n",
              "      <td>0</td>\n",
              "      <td>0</td>\n",
              "      <td>0</td>\n",
              "      <td>0</td>\n",
              "      <td>0</td>\n",
              "      <td>0</td>\n",
              "      <td>0</td>\n",
              "    </tr>\n",
              "    <tr>\n",
              "      <th>...</th>\n",
              "      <td>...</td>\n",
              "      <td>...</td>\n",
              "      <td>...</td>\n",
              "      <td>...</td>\n",
              "      <td>...</td>\n",
              "      <td>...</td>\n",
              "      <td>...</td>\n",
              "      <td>...</td>\n",
              "      <td>...</td>\n",
              "      <td>...</td>\n",
              "      <td>...</td>\n",
              "      <td>...</td>\n",
              "      <td>...</td>\n",
              "      <td>...</td>\n",
              "      <td>...</td>\n",
              "      <td>...</td>\n",
              "      <td>...</td>\n",
              "      <td>...</td>\n",
              "      <td>...</td>\n",
              "      <td>...</td>\n",
              "      <td>...</td>\n",
              "    </tr>\n",
              "    <tr>\n",
              "      <th>2995</th>\n",
              "      <td>0</td>\n",
              "      <td>0</td>\n",
              "      <td>0</td>\n",
              "      <td>0</td>\n",
              "      <td>0</td>\n",
              "      <td>0</td>\n",
              "      <td>0</td>\n",
              "      <td>0</td>\n",
              "      <td>0</td>\n",
              "      <td>0</td>\n",
              "      <td>...</td>\n",
              "      <td>0</td>\n",
              "      <td>0</td>\n",
              "      <td>0</td>\n",
              "      <td>0</td>\n",
              "      <td>0</td>\n",
              "      <td>0</td>\n",
              "      <td>0</td>\n",
              "      <td>0</td>\n",
              "      <td>0</td>\n",
              "      <td>9</td>\n",
              "    </tr>\n",
              "    <tr>\n",
              "      <th>2996</th>\n",
              "      <td>0</td>\n",
              "      <td>0</td>\n",
              "      <td>0</td>\n",
              "      <td>0</td>\n",
              "      <td>0</td>\n",
              "      <td>0</td>\n",
              "      <td>0</td>\n",
              "      <td>0</td>\n",
              "      <td>0</td>\n",
              "      <td>0</td>\n",
              "      <td>...</td>\n",
              "      <td>0</td>\n",
              "      <td>0</td>\n",
              "      <td>0</td>\n",
              "      <td>0</td>\n",
              "      <td>0</td>\n",
              "      <td>0</td>\n",
              "      <td>0</td>\n",
              "      <td>0</td>\n",
              "      <td>0</td>\n",
              "      <td>9</td>\n",
              "    </tr>\n",
              "    <tr>\n",
              "      <th>2997</th>\n",
              "      <td>0</td>\n",
              "      <td>0</td>\n",
              "      <td>0</td>\n",
              "      <td>0</td>\n",
              "      <td>0</td>\n",
              "      <td>0</td>\n",
              "      <td>0</td>\n",
              "      <td>0</td>\n",
              "      <td>0</td>\n",
              "      <td>0</td>\n",
              "      <td>...</td>\n",
              "      <td>0</td>\n",
              "      <td>0</td>\n",
              "      <td>0</td>\n",
              "      <td>0</td>\n",
              "      <td>0</td>\n",
              "      <td>0</td>\n",
              "      <td>0</td>\n",
              "      <td>0</td>\n",
              "      <td>0</td>\n",
              "      <td>9</td>\n",
              "    </tr>\n",
              "    <tr>\n",
              "      <th>2998</th>\n",
              "      <td>0</td>\n",
              "      <td>0</td>\n",
              "      <td>0</td>\n",
              "      <td>0</td>\n",
              "      <td>0</td>\n",
              "      <td>0</td>\n",
              "      <td>0</td>\n",
              "      <td>0</td>\n",
              "      <td>0</td>\n",
              "      <td>0</td>\n",
              "      <td>...</td>\n",
              "      <td>0</td>\n",
              "      <td>0</td>\n",
              "      <td>0</td>\n",
              "      <td>0</td>\n",
              "      <td>0</td>\n",
              "      <td>0</td>\n",
              "      <td>0</td>\n",
              "      <td>0</td>\n",
              "      <td>0</td>\n",
              "      <td>9</td>\n",
              "    </tr>\n",
              "    <tr>\n",
              "      <th>2999</th>\n",
              "      <td>0</td>\n",
              "      <td>0</td>\n",
              "      <td>0</td>\n",
              "      <td>0</td>\n",
              "      <td>0</td>\n",
              "      <td>0</td>\n",
              "      <td>0</td>\n",
              "      <td>0</td>\n",
              "      <td>0</td>\n",
              "      <td>0</td>\n",
              "      <td>...</td>\n",
              "      <td>0</td>\n",
              "      <td>0</td>\n",
              "      <td>0</td>\n",
              "      <td>0</td>\n",
              "      <td>0</td>\n",
              "      <td>0</td>\n",
              "      <td>0</td>\n",
              "      <td>0</td>\n",
              "      <td>0</td>\n",
              "      <td>9</td>\n",
              "    </tr>\n",
              "  </tbody>\n",
              "</table>\n",
              "<p>3000 rows × 785 columns</p>\n",
              "</div>\n",
              "    <div class=\"colab-df-buttons\">\n",
              "\n",
              "  <div class=\"colab-df-container\">\n",
              "    <button class=\"colab-df-convert\" onclick=\"convertToInteractive('df-62b59242-2a3e-4292-94a1-71b2408a4aaf')\"\n",
              "            title=\"Convert this dataframe to an interactive table.\"\n",
              "            style=\"display:none;\">\n",
              "\n",
              "  <svg xmlns=\"http://www.w3.org/2000/svg\" height=\"24px\" viewBox=\"0 -960 960 960\">\n",
              "    <path d=\"M120-120v-720h720v720H120Zm60-500h600v-160H180v160Zm220 220h160v-160H400v160Zm0 220h160v-160H400v160ZM180-400h160v-160H180v160Zm440 0h160v-160H620v160ZM180-180h160v-160H180v160Zm440 0h160v-160H620v160Z\"/>\n",
              "  </svg>\n",
              "    </button>\n",
              "\n",
              "  <style>\n",
              "    .colab-df-container {\n",
              "      display:flex;\n",
              "      gap: 12px;\n",
              "    }\n",
              "\n",
              "    .colab-df-convert {\n",
              "      background-color: #E8F0FE;\n",
              "      border: none;\n",
              "      border-radius: 50%;\n",
              "      cursor: pointer;\n",
              "      display: none;\n",
              "      fill: #1967D2;\n",
              "      height: 32px;\n",
              "      padding: 0 0 0 0;\n",
              "      width: 32px;\n",
              "    }\n",
              "\n",
              "    .colab-df-convert:hover {\n",
              "      background-color: #E2EBFA;\n",
              "      box-shadow: 0px 1px 2px rgba(60, 64, 67, 0.3), 0px 1px 3px 1px rgba(60, 64, 67, 0.15);\n",
              "      fill: #174EA6;\n",
              "    }\n",
              "\n",
              "    .colab-df-buttons div {\n",
              "      margin-bottom: 4px;\n",
              "    }\n",
              "\n",
              "    [theme=dark] .colab-df-convert {\n",
              "      background-color: #3B4455;\n",
              "      fill: #D2E3FC;\n",
              "    }\n",
              "\n",
              "    [theme=dark] .colab-df-convert:hover {\n",
              "      background-color: #434B5C;\n",
              "      box-shadow: 0px 1px 3px 1px rgba(0, 0, 0, 0.15);\n",
              "      filter: drop-shadow(0px 1px 2px rgba(0, 0, 0, 0.3));\n",
              "      fill: #FFFFFF;\n",
              "    }\n",
              "  </style>\n",
              "\n",
              "    <script>\n",
              "      const buttonEl =\n",
              "        document.querySelector('#df-62b59242-2a3e-4292-94a1-71b2408a4aaf button.colab-df-convert');\n",
              "      buttonEl.style.display =\n",
              "        google.colab.kernel.accessAllowed ? 'block' : 'none';\n",
              "\n",
              "      async function convertToInteractive(key) {\n",
              "        const element = document.querySelector('#df-62b59242-2a3e-4292-94a1-71b2408a4aaf');\n",
              "        const dataTable =\n",
              "          await google.colab.kernel.invokeFunction('convertToInteractive',\n",
              "                                                    [key], {});\n",
              "        if (!dataTable) return;\n",
              "\n",
              "        const docLinkHtml = 'Like what you see? Visit the ' +\n",
              "          '<a target=\"_blank\" href=https://colab.research.google.com/notebooks/data_table.ipynb>data table notebook</a>'\n",
              "          + ' to learn more about interactive tables.';\n",
              "        element.innerHTML = '';\n",
              "        dataTable['output_type'] = 'display_data';\n",
              "        await google.colab.output.renderOutput(dataTable, element);\n",
              "        const docLink = document.createElement('div');\n",
              "        docLink.innerHTML = docLinkHtml;\n",
              "        element.appendChild(docLink);\n",
              "      }\n",
              "    </script>\n",
              "  </div>\n",
              "\n",
              "\n",
              "<div id=\"df-60f722af-c6e9-44f7-ba10-0335687cc45c\">\n",
              "  <button class=\"colab-df-quickchart\" onclick=\"quickchart('df-60f722af-c6e9-44f7-ba10-0335687cc45c')\"\n",
              "            title=\"Suggest charts.\"\n",
              "            style=\"display:none;\">\n",
              "\n",
              "<svg xmlns=\"http://www.w3.org/2000/svg\" height=\"24px\"viewBox=\"0 0 24 24\"\n",
              "     width=\"24px\">\n",
              "    <g>\n",
              "        <path d=\"M19 3H5c-1.1 0-2 .9-2 2v14c0 1.1.9 2 2 2h14c1.1 0 2-.9 2-2V5c0-1.1-.9-2-2-2zM9 17H7v-7h2v7zm4 0h-2V7h2v10zm4 0h-2v-4h2v4z\"/>\n",
              "    </g>\n",
              "</svg>\n",
              "  </button>\n",
              "\n",
              "<style>\n",
              "  .colab-df-quickchart {\n",
              "      --bg-color: #E8F0FE;\n",
              "      --fill-color: #1967D2;\n",
              "      --hover-bg-color: #E2EBFA;\n",
              "      --hover-fill-color: #174EA6;\n",
              "      --disabled-fill-color: #AAA;\n",
              "      --disabled-bg-color: #DDD;\n",
              "  }\n",
              "\n",
              "  [theme=dark] .colab-df-quickchart {\n",
              "      --bg-color: #3B4455;\n",
              "      --fill-color: #D2E3FC;\n",
              "      --hover-bg-color: #434B5C;\n",
              "      --hover-fill-color: #FFFFFF;\n",
              "      --disabled-bg-color: #3B4455;\n",
              "      --disabled-fill-color: #666;\n",
              "  }\n",
              "\n",
              "  .colab-df-quickchart {\n",
              "    background-color: var(--bg-color);\n",
              "    border: none;\n",
              "    border-radius: 50%;\n",
              "    cursor: pointer;\n",
              "    display: none;\n",
              "    fill: var(--fill-color);\n",
              "    height: 32px;\n",
              "    padding: 0;\n",
              "    width: 32px;\n",
              "  }\n",
              "\n",
              "  .colab-df-quickchart:hover {\n",
              "    background-color: var(--hover-bg-color);\n",
              "    box-shadow: 0 1px 2px rgba(60, 64, 67, 0.3), 0 1px 3px 1px rgba(60, 64, 67, 0.15);\n",
              "    fill: var(--button-hover-fill-color);\n",
              "  }\n",
              "\n",
              "  .colab-df-quickchart-complete:disabled,\n",
              "  .colab-df-quickchart-complete:disabled:hover {\n",
              "    background-color: var(--disabled-bg-color);\n",
              "    fill: var(--disabled-fill-color);\n",
              "    box-shadow: none;\n",
              "  }\n",
              "\n",
              "  .colab-df-spinner {\n",
              "    border: 2px solid var(--fill-color);\n",
              "    border-color: transparent;\n",
              "    border-bottom-color: var(--fill-color);\n",
              "    animation:\n",
              "      spin 1s steps(1) infinite;\n",
              "  }\n",
              "\n",
              "  @keyframes spin {\n",
              "    0% {\n",
              "      border-color: transparent;\n",
              "      border-bottom-color: var(--fill-color);\n",
              "      border-left-color: var(--fill-color);\n",
              "    }\n",
              "    20% {\n",
              "      border-color: transparent;\n",
              "      border-left-color: var(--fill-color);\n",
              "      border-top-color: var(--fill-color);\n",
              "    }\n",
              "    30% {\n",
              "      border-color: transparent;\n",
              "      border-left-color: var(--fill-color);\n",
              "      border-top-color: var(--fill-color);\n",
              "      border-right-color: var(--fill-color);\n",
              "    }\n",
              "    40% {\n",
              "      border-color: transparent;\n",
              "      border-right-color: var(--fill-color);\n",
              "      border-top-color: var(--fill-color);\n",
              "    }\n",
              "    60% {\n",
              "      border-color: transparent;\n",
              "      border-right-color: var(--fill-color);\n",
              "    }\n",
              "    80% {\n",
              "      border-color: transparent;\n",
              "      border-right-color: var(--fill-color);\n",
              "      border-bottom-color: var(--fill-color);\n",
              "    }\n",
              "    90% {\n",
              "      border-color: transparent;\n",
              "      border-bottom-color: var(--fill-color);\n",
              "    }\n",
              "  }\n",
              "</style>\n",
              "\n",
              "  <script>\n",
              "    async function quickchart(key) {\n",
              "      const quickchartButtonEl =\n",
              "        document.querySelector('#' + key + ' button');\n",
              "      quickchartButtonEl.disabled = true;  // To prevent multiple clicks.\n",
              "      quickchartButtonEl.classList.add('colab-df-spinner');\n",
              "      try {\n",
              "        const charts = await google.colab.kernel.invokeFunction(\n",
              "            'suggestCharts', [key], {});\n",
              "      } catch (error) {\n",
              "        console.error('Error during call to suggestCharts:', error);\n",
              "      }\n",
              "      quickchartButtonEl.classList.remove('colab-df-spinner');\n",
              "      quickchartButtonEl.classList.add('colab-df-quickchart-complete');\n",
              "    }\n",
              "    (() => {\n",
              "      let quickchartButtonEl =\n",
              "        document.querySelector('#df-60f722af-c6e9-44f7-ba10-0335687cc45c button');\n",
              "      quickchartButtonEl.style.display =\n",
              "        google.colab.kernel.accessAllowed ? 'block' : 'none';\n",
              "    })();\n",
              "  </script>\n",
              "</div>\n",
              "    </div>\n",
              "  </div>\n"
            ]
          },
          "metadata": {},
          "execution_count": 10
        }
      ],
      "source": [
        "df = pd.read_csv('all.csv', header = None)\n",
        "df"
      ]
    },
    {
      "cell_type": "code",
      "execution_count": 12,
      "id": "af0d5ce7",
      "metadata": {
        "colab": {
          "base_uri": "https://localhost:8080/"
        },
        "id": "af0d5ce7",
        "outputId": "73ff9be1-06fb-4158-8bba-a6dd3f933a18"
      },
      "outputs": [
        {
          "output_type": "execute_result",
          "data": {
            "text/plain": [
              "0       0\n",
              "1       0\n",
              "2       0\n",
              "3       0\n",
              "4       0\n",
              "       ..\n",
              "2995    9\n",
              "2996    9\n",
              "2997    9\n",
              "2998    9\n",
              "2999    9\n",
              "Name: 784, Length: 3000, dtype: int64"
            ]
          },
          "metadata": {},
          "execution_count": 12
        }
      ],
      "source": [
        "X = df.iloc[:, :-1]\n",
        "y = df.iloc[:, -1]\n"
      ]
    },
    {
      "cell_type": "code",
      "source": [
        "X = X.to_numpy()"
      ],
      "metadata": {
        "id": "hGIHqC0KK2Rq"
      },
      "id": "hGIHqC0KK2Rq",
      "execution_count": 16,
      "outputs": []
    },
    {
      "cell_type": "code",
      "source": [
        "y = y.to_numpy()"
      ],
      "metadata": {
        "id": "s4bhFZ6dLAOe"
      },
      "id": "s4bhFZ6dLAOe",
      "execution_count": 17,
      "outputs": []
    },
    {
      "cell_type": "code",
      "source": [
        "\n",
        "\n",
        "# Plot first 10 images with labels\n",
        "plt.figure(figsize=(12, 6))\n",
        "for i in range(10):\n",
        "    r = np.random.randint(0,2500)\n",
        "    plt.subplot(2, 5, i + 1)\n",
        "    plt.imshow(X[r, :].reshape(28,28), cmap='gray')\n",
        "    plt.title(f\"Label: {y[r]}\")\n",
        "    plt.axis('off')\n",
        "\n",
        "plt.show()"
      ],
      "metadata": {
        "colab": {
          "base_uri": "https://localhost:8080/",
          "height": 471
        },
        "id": "uBxEOo9OKJNm",
        "outputId": "9fbee4b6-29a6-4b61-9d46-e8f6b5d6b9fd"
      },
      "id": "uBxEOo9OKJNm",
      "execution_count": 20,
      "outputs": [
        {
          "output_type": "display_data",
          "data": {
            "text/plain": [
              "<Figure size 1200x600 with 10 Axes>"
            ],
            "image/png": "[encoded data removed]"
          },
          "metadata": {}
        }
      ]
    },
    {
      "cell_type": "code",
      "execution_count": 21,
      "id": "cb7201cd",
      "metadata": {
        "id": "cb7201cd"
      },
      "outputs": [],
      "source": [
        "from sklearn.model_selection import train_test_split"
      ]
    },
    {
      "cell_type": "code",
      "execution_count": 22,
      "id": "4ffaee46",
      "metadata": {
        "id": "4ffaee46"
      },
      "outputs": [],
      "source": [
        "x_train, x_test, y_train, y_test = train_test_split(X, y, test_size=0.2, random_state=19)"
      ]
    },
    {
      "cell_type": "code",
      "execution_count": 23,
      "id": "a89557e6",
      "metadata": {
        "id": "a89557e6"
      },
      "outputs": [],
      "source": [
        "x_train, x_test = x_train / 255.0, x_test / 255.0"
      ]
    },
    {
      "cell_type": "code",
      "execution_count": 24,
      "id": "05f1d4b1",
      "metadata": {
        "colab": {
          "base_uri": "https://localhost:8080/"
        },
        "id": "05f1d4b1",
        "outputId": "97a3bf81-d6dc-4f53-fdb3-c88823748276"
      },
      "outputs": [
        {
          "output_type": "execute_result",
          "data": {
            "text/plain": [
              "(2400, 784)"
            ]
          },
          "metadata": {},
          "execution_count": 24
        }
      ],
      "source": [
        "np.shape(x_train)"
      ]
    },
    {
      "cell_type": "code",
      "execution_count": 26,
      "id": "fd91f896",
      "metadata": {
        "id": "fd91f896"
      },
      "outputs": [],
      "source": [
        "loss_fn = tf.keras.losses.SparseCategoricalCrossentropy(from_logits=True)"
      ]
    },
    {
      "cell_type": "code",
      "execution_count": 35,
      "id": "4f86a259",
      "metadata": {
        "colab": {
          "base_uri": "https://localhost:8080/",
          "height": 831
        },
        "id": "4f86a259",
        "outputId": "0f323783-7dfa-4dab-a236-bff3b234bf69"
      },
      "outputs": [
        {
          "output_type": "stream",
          "name": "stdout",
          "text": [
            "Epoch 1/10\n",
            "75/75 [==============================] - 38s 19ms/step - loss: 0.6703 - accuracy: 0.7821\n",
            "Epoch 2/10\n",
            "75/75 [==============================] - 1s 19ms/step - loss: 0.2102 - accuracy: 0.9354\n",
            "Epoch 3/10\n",
            "75/75 [==============================] - 1s 20ms/step - loss: 0.1105 - accuracy: 0.9654\n",
            "Epoch 4/10\n",
            "75/75 [==============================] - 2s 26ms/step - loss: 0.0368 - accuracy: 0.9904\n",
            "Epoch 5/10\n",
            "75/75 [==============================] - 2s 25ms/step - loss: 0.0195 - accuracy: 0.9946\n",
            "Epoch 6/10\n",
            "75/75 [==============================] - 1s 19ms/step - loss: 0.0198 - accuracy: 0.9946\n",
            "Epoch 7/10\n",
            "75/75 [==============================] - 1s 19ms/step - loss: 0.0181 - accuracy: 0.9962\n",
            "Epoch 8/10\n",
            "75/75 [==============================] - 2s 20ms/step - loss: 0.0273 - accuracy: 0.9929\n",
            "Epoch 9/10\n",
            "75/75 [==============================] - 1s 19ms/step - loss: 0.0224 - accuracy: 0.9929\n",
            "Epoch 10/10\n",
            "75/75 [==============================] - 1s 20ms/step - loss: 0.0576 - accuracy: 0.9833\n",
            "19/19 - 0s - loss: 0.5220 - accuracy: 0.9067 - 280ms/epoch - 15ms/step\n"
          ]
        },
        {
          "output_type": "execute_result",
          "data": {
            "text/plain": [
              "[0.5220156908035278, 0.9066666960716248]"
            ]
          },
          "metadata": {},
          "execution_count": 35
        },
        {
          "output_type": "display_data",
          "data": {
            "text/plain": [
              "<Figure size 640x480 with 1 Axes>"
            ],
            "image/png": "[encoded data removed]"
          },
          "metadata": {}
        }
      ],
      "source": [
        "model = tf.keras.models.Sequential([\n",
        "  tf.keras.layers.Dense(784,activation='relu'),\n",
        "\n",
        "\n",
        "  tf.keras.layers.Dense(784),\n",
        "\n",
        "  #tf.keras.layers.Dense(128),\n",
        "  tf.keras.layers.Dropout(0.2),\n",
        "  tf.keras.layers.Dense(10)\n",
        "])\n",
        "\n",
        "loss_fn = tf.keras.losses.SparseCategoricalCrossentropy(from_logits=True)\n",
        "\n",
        "model.compile(optimizer='adam',\n",
        "              loss=loss_fn,\n",
        "              metrics=['accuracy'])\n",
        "\n",
        "history = model.fit(x_train, y_train, epochs=10)\n",
        "\n",
        "plt.plot(history.history['accuracy'], label='accuracy')\n",
        "#plt.plot(history.history['speed'], label = 'val_accuracy')\n",
        "plt.xlabel('Epoch')\n",
        "plt.ylabel('Accuracy')\n",
        "#plt.ylim([0.5, 1])\n",
        "#plt.legend(loc='lower right')\n",
        "\n",
        "#test_loss, test_acc = model.evaluate(test_images,  test_labels, verbose=2)\n",
        "\n",
        "model.evaluate(x_test,  y_test, verbose=2)"
      ]
    },
    {
      "cell_type": "code",
      "execution_count": null,
      "id": "e92b6c65",
      "metadata": {
        "id": "e92b6c65"
      },
      "outputs": [],
      "source": []
    },
    {
      "cell_type": "code",
      "execution_count": 36,
      "id": "16181ad9",
      "metadata": {
        "colab": {
          "base_uri": "https://localhost:8080/",
          "height": 831
        },
        "id": "16181ad9",
        "outputId": "6cd1cac7-88aa-4ceb-a79c-d47960ae542b"
      },
      "outputs": [
        {
          "output_type": "stream",
          "name": "stdout",
          "text": [
            "Epoch 1/10\n",
            "75/75 [==============================] - 3s 34ms/step - loss: 0.6705 - accuracy: 0.7858\n",
            "Epoch 2/10\n",
            "75/75 [==============================] - 3s 42ms/step - loss: 0.1941 - accuracy: 0.9442\n",
            "Epoch 3/10\n",
            "75/75 [==============================] - 4s 47ms/step - loss: 0.0869 - accuracy: 0.9762\n",
            "Epoch 4/10\n",
            "75/75 [==============================] - 3s 39ms/step - loss: 0.0382 - accuracy: 0.9900\n",
            "Epoch 5/10\n",
            "75/75 [==============================] - 3s 35ms/step - loss: 0.0239 - accuracy: 0.9912\n",
            "Epoch 6/10\n",
            "75/75 [==============================] - 4s 49ms/step - loss: 0.0170 - accuracy: 0.9954\n",
            "Epoch 7/10\n",
            "75/75 [==============================] - 3s 35ms/step - loss: 0.0161 - accuracy: 0.9958\n",
            "Epoch 8/10\n",
            "75/75 [==============================] - 2s 31ms/step - loss: 0.0400 - accuracy: 0.9862\n",
            "Epoch 9/10\n",
            "75/75 [==============================] - 2s 29ms/step - loss: 0.0473 - accuracy: 0.9854\n",
            "Epoch 10/10\n",
            "75/75 [==============================] - 2s 31ms/step - loss: 0.0741 - accuracy: 0.9750\n",
            "19/19 - 0s - loss: 0.5875 - accuracy: 0.9117 - 436ms/epoch - 23ms/step\n"
          ]
        },
        {
          "output_type": "execute_result",
          "data": {
            "text/plain": [
              "[0.5875096917152405, 0.9116666913032532]"
            ]
          },
          "metadata": {},
          "execution_count": 36
        },
        {
          "output_type": "display_data",
          "data": {
            "text/plain": [
              "<Figure size 640x480 with 1 Axes>"
            ],
            "image/png": "[encoded data removed]"
          },
          "metadata": {}
        }
      ],
      "source": [
        "model = tf.keras.models.Sequential([\n",
        "  tf.keras.layers.Dense(784,activation='relu'),\n",
        "\n",
        "\n",
        "  tf.keras.layers.Dense(1024),\n",
        "\n",
        "  #tf.keras.layers.Dense(128),\n",
        "  tf.keras.layers.Dropout(0.2),\n",
        "  tf.keras.layers.Dense(10)\n",
        "])\n",
        "\n",
        "loss_fn = tf.keras.losses.SparseCategoricalCrossentropy(from_logits=True)\n",
        "\n",
        "model.compile(optimizer='adam',\n",
        "              loss=loss_fn,\n",
        "              metrics=['accuracy'])\n",
        "\n",
        "history = model.fit(x_train, y_train, epochs=10)\n",
        "\n",
        "plt.plot(history.history['accuracy'], label='accuracy')\n",
        "#plt.plot(history.history['speed'], label = 'val_accuracy')\n",
        "plt.xlabel('Epoch')\n",
        "plt.ylabel('Accuracy')\n",
        "#plt.ylim([0.5, 1])\n",
        "#plt.legend(loc='lower right')\n",
        "\n",
        "#test_loss, test_acc = model.evaluate(test_images,  test_labels, verbose=2)\n",
        "\n",
        "model.evaluate(x_test,  y_test, verbose=2)"
      ]
    },
    {
      "cell_type": "code",
      "execution_count": null,
      "id": "c837e713",
      "metadata": {
        "id": "c837e713"
      },
      "outputs": [],
      "source": []
    },
    {
      "cell_type": "code",
      "execution_count": null,
      "id": "d40dbcd3",
      "metadata": {
        "id": "d40dbcd3",
        "outputId": "b62c1ec3-d379-4880-dc00-2f6e2b29de38"
      },
      "outputs": [
        {
          "name": "stdout",
          "output_type": "stream",
          "text": [
            "Epoch 1/10\n",
            "75/75 [==============================] - 2s 9ms/step - loss: 0.6523 - accuracy: 0.7912\n",
            "Epoch 2/10\n",
            "75/75 [==============================] - 1s 9ms/step - loss: 0.2665 - accuracy: 0.9192\n",
            "Epoch 3/10\n",
            "75/75 [==============================] - 1s 9ms/step - loss: 0.1524 - accuracy: 0.9538\n",
            "Epoch 4/10\n",
            "75/75 [==============================] - 1s 9ms/step - loss: 0.0693 - accuracy: 0.9800\n",
            "Epoch 5/10\n",
            "75/75 [==============================] - 1s 9ms/step - loss: 0.0276 - accuracy: 0.9921\n",
            "Epoch 6/10\n",
            "75/75 [==============================] - 1s 9ms/step - loss: 0.0152 - accuracy: 0.9962\n",
            "Epoch 7/10\n",
            "75/75 [==============================] - 1s 9ms/step - loss: 0.0189 - accuracy: 0.9950\n",
            "Epoch 8/10\n",
            "75/75 [==============================] - 1s 9ms/step - loss: 0.0283 - accuracy: 0.9908\n",
            "Epoch 9/10\n",
            "75/75 [==============================] - 1s 9ms/step - loss: 0.0764 - accuracy: 0.9800\n",
            "Epoch 10/10\n",
            "75/75 [==============================] - 1s 10ms/step - loss: 0.0617 - accuracy: 0.9792\n",
            "19/19 - 0s - loss: 0.4405 - accuracy: 0.9133 - 431ms/epoch - 23ms/step\n"
          ]
        },
        {
          "data": {
            "text/plain": [
              "[0.44046446681022644, 0.9133333563804626]"
            ]
          },
          "execution_count": 517,
          "metadata": {},
          "output_type": "execute_result"
        },
        {
          "data": {
            "image/png": "[encoded data removed]",
            "text/plain": [
              "<Figure size 640x480 with 1 Axes>"
            ]
          },
          "metadata": {},
          "output_type": "display_data"
        }
      ],
      "source": [
        "model = tf.keras.models.Sequential([\n",
        "  tf.keras.layers.Dense(784,activation='relu'),\n",
        "\n",
        "\n",
        "  tf.keras.layers.Dense(256),\n",
        "\n",
        "  tf.keras.layers.Dense(128),\n",
        "  tf.keras.layers.Dropout(0.2),\n",
        "  tf.keras.layers.Dense(10)\n",
        "])\n",
        "\n",
        "loss_fn = tf.keras.losses.SparseCategoricalCrossentropy(from_logits=True)\n",
        "\n",
        "model.compile(optimizer='adam',\n",
        "              loss=loss_fn,\n",
        "              metrics=['accuracy'])\n",
        "\n",
        "history = model.fit(x_train, y_train, epochs=10)\n",
        "\n",
        "plt.plot(history.history['accuracy'], label='accuracy')\n",
        "#plt.plot(history.history['speed'], label = 'val_accuracy')\n",
        "plt.xlabel('Epoch')\n",
        "plt.ylabel('Accuracy')\n",
        "#plt.ylim([0.5, 1])\n",
        "#plt.legend(loc='lower right')\n",
        "\n",
        "#test_loss, test_acc = model.evaluate(test_images,  test_labels, verbose=2)\n",
        "\n",
        "model.evaluate(x_test,  y_test, verbose=2)"
      ]
    },
    {
      "cell_type": "code",
      "execution_count": null,
      "id": "91e38372",
      "metadata": {
        "id": "91e38372"
      },
      "outputs": [],
      "source": []
    },
    {
      "cell_type": "code",
      "execution_count": 37,
      "id": "34964b80",
      "metadata": {
        "colab": {
          "base_uri": "https://localhost:8080/",
          "height": 831
        },
        "id": "34964b80",
        "outputId": "c0a73d4e-ea67-4e22-9fa7-74d8a17f21aa"
      },
      "outputs": [
        {
          "output_type": "stream",
          "name": "stdout",
          "text": [
            "Epoch 1/10\n",
            "75/75 [==============================] - 2s 19ms/step - loss: 0.6733 - accuracy: 0.7842\n",
            "Epoch 2/10\n",
            "75/75 [==============================] - 1s 20ms/step - loss: 0.2108 - accuracy: 0.9300\n",
            "Epoch 3/10\n",
            "75/75 [==============================] - 1s 20ms/step - loss: 0.1469 - accuracy: 0.9500\n",
            "Epoch 4/10\n",
            "75/75 [==============================] - 2s 23ms/step - loss: 0.0721 - accuracy: 0.9800\n",
            "Epoch 5/10\n",
            "75/75 [==============================] - 2s 27ms/step - loss: 0.0619 - accuracy: 0.9787\n",
            "Epoch 6/10\n",
            "75/75 [==============================] - 1s 18ms/step - loss: 0.0717 - accuracy: 0.9787\n",
            "Epoch 7/10\n",
            "75/75 [==============================] - 1s 18ms/step - loss: 0.0900 - accuracy: 0.9688\n",
            "Epoch 8/10\n",
            "75/75 [==============================] - 1s 18ms/step - loss: 0.0617 - accuracy: 0.9796\n",
            "Epoch 9/10\n",
            "75/75 [==============================] - 1s 19ms/step - loss: 0.0407 - accuracy: 0.9854\n",
            "Epoch 10/10\n",
            "75/75 [==============================] - 1s 19ms/step - loss: 0.0795 - accuracy: 0.9792\n",
            "19/19 - 0s - loss: 0.4418 - accuracy: 0.9317 - 253ms/epoch - 13ms/step\n"
          ]
        },
        {
          "output_type": "execute_result",
          "data": {
            "text/plain": [
              "[0.4418134093284607, 0.9316666722297668]"
            ]
          },
          "metadata": {},
          "execution_count": 37
        },
        {
          "output_type": "display_data",
          "data": {
            "text/plain": [
              "<Figure size 640x480 with 1 Axes>"
            ],
            "image/png": "[encoded data removed]"
          },
          "metadata": {}
        }
      ],
      "source": [
        "model = tf.keras.models.Sequential([\n",
        "  tf.keras.layers.Dense(784,activation='relu'),\n",
        "\n",
        "\n",
        "  tf.keras.layers.Dense(516),\n",
        "\n",
        "  tf.keras.layers.Dense(256),\n",
        "  tf.keras.layers.Dropout(0.2),\n",
        "  tf.keras.layers.Dense(10)\n",
        "])\n",
        "\n",
        "loss_fn = tf.keras.losses.SparseCategoricalCrossentropy(from_logits=True)\n",
        "\n",
        "model.compile(optimizer='adam',\n",
        "              loss=loss_fn,\n",
        "              metrics=['accuracy'])\n",
        "\n",
        "history = model.fit(x_train, y_train, epochs=10)\n",
        "\n",
        "plt.plot(history.history['accuracy'], label='accuracy')\n",
        "#plt.plot(history.history['speed'], label = 'val_accuracy')\n",
        "plt.xlabel('Epoch')\n",
        "plt.ylabel('Accuracy')\n",
        "#plt.ylim([0.5, 1])\n",
        "#plt.legend(loc='lower right')\n",
        "\n",
        "#test_loss, test_acc = model.evaluate(test_images,  test_labels, verbose=2)\n",
        "\n",
        "model.evaluate(x_test,  y_test, verbose=2)"
      ]
    },
    {
      "cell_type": "code",
      "execution_count": null,
      "id": "06379532",
      "metadata": {
        "id": "06379532"
      },
      "outputs": [],
      "source": []
    },
    {
      "cell_type": "code",
      "execution_count": null,
      "id": "fe563f84",
      "metadata": {
        "id": "fe563f84",
        "outputId": "02cfd840-bb79-4947-df17-c82388321687"
      },
      "outputs": [
        {
          "name": "stdout",
          "output_type": "stream",
          "text": [
            "Epoch 1/10\n",
            "75/75 [==============================] - 1s 5ms/step - loss: 0.6822 - accuracy: 0.7850\n",
            "Epoch 2/10\n",
            "75/75 [==============================] - 0s 5ms/step - loss: 0.2622 - accuracy: 0.9171\n",
            "Epoch 3/10\n",
            "75/75 [==============================] - 0s 5ms/step - loss: 0.1173 - accuracy: 0.9650\n",
            "Epoch 4/10\n",
            "75/75 [==============================] - 0s 5ms/step - loss: 0.0646 - accuracy: 0.9821\n",
            "Epoch 5/10\n",
            "75/75 [==============================] - 0s 5ms/step - loss: 0.0276 - accuracy: 0.9921\n",
            "Epoch 6/10\n",
            "75/75 [==============================] - 0s 5ms/step - loss: 0.0336 - accuracy: 0.9896\n",
            "Epoch 7/10\n",
            "75/75 [==============================] - 0s 5ms/step - loss: 0.0133 - accuracy: 0.9958\n",
            "Epoch 8/10\n",
            "75/75 [==============================] - 0s 5ms/step - loss: 0.0265 - accuracy: 0.9946\n",
            "Epoch 9/10\n",
            "75/75 [==============================] - 0s 5ms/step - loss: 0.0238 - accuracy: 0.9929\n",
            "Epoch 10/10\n",
            "75/75 [==============================] - 0s 5ms/step - loss: 0.0273 - accuracy: 0.9937\n",
            "19/19 - 0s - loss: 0.4496 - accuracy: 0.9133 - 216ms/epoch - 11ms/step\n"
          ]
        },
        {
          "data": {
            "text/plain": [
              "[0.44958731532096863, 0.9133333563804626]"
            ]
          },
          "execution_count": 522,
          "metadata": {},
          "output_type": "execute_result"
        },
        {
          "data": {
            "image/png": "[encoded data removed]",
            "text/plain": [
              "<Figure size 640x480 with 1 Axes>"
            ]
          },
          "metadata": {},
          "output_type": "display_data"
        }
      ],
      "source": [
        "model = tf.keras.models.Sequential([\n",
        "  tf.keras.layers.Dense(784,activation='relu'),\n",
        "\n",
        "\n",
        "  tf.keras.layers.Dense(128),\n",
        "\n",
        "  tf.keras.layers.Dense(128),\n",
        "  #tf.keras.layers.Dropout(0.2),\n",
        "  tf.keras.layers.Dense(10)\n",
        "])\n",
        "\n",
        "loss_fn = tf.keras.losses.SparseCategoricalCrossentropy(from_logits=True)\n",
        "\n",
        "model.compile(optimizer='adam',\n",
        "              loss=loss_fn,\n",
        "              metrics=['accuracy'])\n",
        "\n",
        "history = model.fit(x_train, y_train, epochs=10)\n",
        "\n",
        "plt.plot(history.history['accuracy'], label='accuracy')\n",
        "#plt.plot(history.history['speed'], label = 'val_accuracy')\n",
        "plt.xlabel('Epoch')\n",
        "plt.ylabel('Accuracy')\n",
        "#plt.ylim([0.5, 1])\n",
        "#plt.legend(loc='lower right')\n",
        "\n",
        "#test_loss, test_acc = model.evaluate(test_images,  test_labels, verbose=2)\n",
        "\n",
        "model.evaluate(x_test,  y_test, verbose=2)"
      ]
    },
    {
      "cell_type": "code",
      "execution_count": null,
      "id": "a47584a1",
      "metadata": {
        "id": "a47584a1"
      },
      "outputs": [],
      "source": []
    },
    {
      "cell_type": "code",
      "execution_count": null,
      "id": "2d9a760c",
      "metadata": {
        "id": "2d9a760c",
        "outputId": "33a3984c-2267-426a-a3ad-708c9962140a"
      },
      "outputs": [
        {
          "name": "stdout",
          "output_type": "stream",
          "text": [
            "Epoch 1/10\n",
            "75/75 [==============================] - 2s 9ms/step - loss: 0.6956 - accuracy: 0.7837\n",
            "Epoch 2/10\n",
            "75/75 [==============================] - 1s 9ms/step - loss: 0.2776 - accuracy: 0.9150\n",
            "Epoch 3/10\n",
            "75/75 [==============================] - 1s 9ms/step - loss: 0.1568 - accuracy: 0.9542\n",
            "Epoch 4/10\n",
            "75/75 [==============================] - 1s 9ms/step - loss: 0.0851 - accuracy: 0.9746\n",
            "Epoch 5/10\n",
            "75/75 [==============================] - 1s 9ms/step - loss: 0.0435 - accuracy: 0.9871\n",
            "Epoch 6/10\n",
            "75/75 [==============================] - 1s 9ms/step - loss: 0.0210 - accuracy: 0.9933\n",
            "Epoch 7/10\n",
            "75/75 [==============================] - 1s 9ms/step - loss: 0.0169 - accuracy: 0.9962\n",
            "Epoch 8/10\n",
            "75/75 [==============================] - 1s 9ms/step - loss: 0.0204 - accuracy: 0.9933\n",
            "Epoch 9/10\n",
            "75/75 [==============================] - 1s 9ms/step - loss: 0.0286 - accuracy: 0.9908\n",
            "Epoch 10/10\n",
            "75/75 [==============================] - 1s 9ms/step - loss: 0.0562 - accuracy: 0.9854\n",
            "19/19 - 0s - loss: 0.5374 - accuracy: 0.9067 - 345ms/epoch - 18ms/step\n"
          ]
        },
        {
          "data": {
            "text/plain": [
              "[0.5374351739883423, 0.9066666960716248]"
            ]
          },
          "execution_count": 520,
          "metadata": {},
          "output_type": "execute_result"
        },
        {
          "data": {
            "image/png": "[encoded data removed]",
            "text/plain": [
              "<Figure size 640x480 with 1 Axes>"
            ]
          },
          "metadata": {},
          "output_type": "display_data"
        }
      ],
      "source": [
        "model = tf.keras.models.Sequential([\n",
        "  tf.keras.layers.Dense(784,activation='relu'),\n",
        "\n",
        "\n",
        "  tf.keras.layers.Dense(200),\n",
        "\n",
        "  tf.keras.layers.Dense(100),\n",
        "  tf.keras.layers.Dropout(0.2),\n",
        "  tf.keras.layers.Dense(10)\n",
        "])\n",
        "\n",
        "loss_fn = tf.keras.losses.SparseCategoricalCrossentropy(from_logits=True)\n",
        "\n",
        "model.compile(optimizer='adam',\n",
        "              loss=loss_fn,\n",
        "              metrics=['accuracy'])\n",
        "\n",
        "history = model.fit(x_train, y_train, epochs=10)\n",
        "\n",
        "plt.plot(history.history['accuracy'], label='accuracy')\n",
        "#plt.plot(history.history['speed'], label = 'val_accuracy')\n",
        "plt.xlabel('Epoch')\n",
        "plt.ylabel('Accuracy')\n",
        "#plt.ylim([0.5, 1])\n",
        "#plt.legend(loc='lower right')\n",
        "\n",
        "#test_loss, test_acc = model.evaluate(test_images,  test_labels, verbose=2)\n",
        "\n",
        "model.evaluate(x_test,  y_test, verbose=2)"
      ]
    },
    {
      "cell_type": "code",
      "execution_count": null,
      "id": "49be66a8",
      "metadata": {
        "id": "49be66a8"
      },
      "outputs": [],
      "source": []
    },
    {
      "cell_type": "code",
      "execution_count": null,
      "id": "83422a03",
      "metadata": {
        "id": "83422a03"
      },
      "outputs": [],
      "source": []
    },
    {
      "cell_type": "code",
      "execution_count": 38,
      "id": "b4dae406",
      "metadata": {
        "id": "b4dae406"
      },
      "outputs": [],
      "source": [
        "model = tf.keras.models.Sequential([\n",
        "  tf.keras.layers.Dense(784),\n",
        "  tf.keras.layers.Dense(256, activation='relu'),\n",
        "\n",
        "  #tf.keras.layers.Dense(256, activation='relu'),\n",
        "  tf.keras.layers.Dropout(0.2),\n",
        "  tf.keras.layers.Dense(10)\n",
        "])\n",
        "\n",
        "loss_fn = tf.keras.losses.SparseCategoricalCrossentropy(from_logits=True)"
      ]
    },
    {
      "cell_type": "code",
      "execution_count": 39,
      "id": "65114de1",
      "metadata": {
        "id": "65114de1"
      },
      "outputs": [],
      "source": [
        "optimizer = tf.keras.optimizers.SGD(\n",
        "    learning_rate=0.01, momentum=0.0, nesterov=False, name=\"SGD\")"
      ]
    },
    {
      "cell_type": "code",
      "execution_count": 40,
      "id": "c9eb5209",
      "metadata": {
        "id": "c9eb5209"
      },
      "outputs": [],
      "source": [
        "model.compile(optimizer=optimizer,\n",
        "              loss=loss_fn,\n",
        "              metrics=['accuracy'])"
      ]
    },
    {
      "cell_type": "code",
      "execution_count": 41,
      "id": "6303836e",
      "metadata": {
        "colab": {
          "base_uri": "https://localhost:8080/"
        },
        "id": "6303836e",
        "outputId": "15c7d45e-82ed-45f8-af32-9a2d877837dd"
      },
      "outputs": [
        {
          "output_type": "stream",
          "name": "stdout",
          "text": [
            "Epoch 1/15\n",
            "75/75 [==============================] - 1s 8ms/step - loss: 1.6910 - accuracy: 0.5367\n",
            "Epoch 2/15\n",
            "75/75 [==============================] - 1s 8ms/step - loss: 0.9955 - accuracy: 0.7725\n",
            "Epoch 3/15\n",
            "75/75 [==============================] - 1s 9ms/step - loss: 0.7460 - accuracy: 0.8125\n",
            "Epoch 4/15\n",
            "75/75 [==============================] - 1s 8ms/step - loss: 0.6153 - accuracy: 0.8392\n",
            "Epoch 5/15\n",
            "75/75 [==============================] - 1s 8ms/step - loss: 0.5451 - accuracy: 0.8621\n",
            "Epoch 6/15\n",
            "75/75 [==============================] - 1s 8ms/step - loss: 0.4905 - accuracy: 0.8742\n",
            "Epoch 7/15\n",
            "75/75 [==============================] - 1s 9ms/step - loss: 0.4533 - accuracy: 0.8817\n",
            "Epoch 8/15\n",
            "75/75 [==============================] - 1s 9ms/step - loss: 0.4308 - accuracy: 0.8858\n",
            "Epoch 9/15\n",
            "75/75 [==============================] - 1s 8ms/step - loss: 0.3945 - accuracy: 0.8883\n",
            "Epoch 10/15\n",
            "75/75 [==============================] - 1s 9ms/step - loss: 0.3731 - accuracy: 0.8963\n",
            "Epoch 11/15\n",
            "75/75 [==============================] - 1s 12ms/step - loss: 0.3652 - accuracy: 0.9013\n",
            "Epoch 12/15\n",
            "75/75 [==============================] - 1s 12ms/step - loss: 0.3348 - accuracy: 0.9125\n",
            "Epoch 13/15\n",
            "75/75 [==============================] - 1s 13ms/step - loss: 0.3287 - accuracy: 0.9112\n",
            "Epoch 14/15\n",
            "75/75 [==============================] - 1s 9ms/step - loss: 0.3123 - accuracy: 0.9162\n",
            "Epoch 15/15\n",
            "75/75 [==============================] - 1s 8ms/step - loss: 0.3138 - accuracy: 0.9167\n"
          ]
        },
        {
          "output_type": "execute_result",
          "data": {
            "text/plain": [
              "<keras.src.callbacks.History at 0x7931f6530eb0>"
            ]
          },
          "metadata": {},
          "execution_count": 41
        }
      ],
      "source": [
        "model.fit(x_train, y_train, epochs=15)"
      ]
    },
    {
      "cell_type": "code",
      "execution_count": 42,
      "id": "cceb7e5c",
      "metadata": {
        "colab": {
          "base_uri": "https://localhost:8080/"
        },
        "id": "cceb7e5c",
        "outputId": "2f28a758-86a6-4fe2-cae5-73ca0b2de950"
      },
      "outputs": [
        {
          "output_type": "stream",
          "name": "stdout",
          "text": [
            "19/19 - 0s - loss: 0.3757 - accuracy: 0.9050 - 341ms/epoch - 18ms/step\n"
          ]
        },
        {
          "output_type": "execute_result",
          "data": {
            "text/plain": [
              "[0.3757390081882477, 0.9049999713897705]"
            ]
          },
          "metadata": {},
          "execution_count": 42
        }
      ],
      "source": [
        "model.evaluate(x_test,  y_test, verbose=2)"
      ]
    },
    {
      "cell_type": "code",
      "execution_count": null,
      "id": "19b73a02",
      "metadata": {
        "id": "19b73a02"
      },
      "outputs": [],
      "source": []
    },
    {
      "cell_type": "code",
      "execution_count": null,
      "id": "941cb10e",
      "metadata": {
        "id": "941cb10e"
      },
      "outputs": [],
      "source": []
    }
  ],
  "metadata": {
    "kernelspec": {
      "display_name": "Python 3 (ipykernel)",
      "language": "python",
      "name": "python3"
    },
    "language_info": {
      "codemirror_mode": {
        "name": "ipython",
        "version": 3
      },
      "file_extension": ".py",
      "mimetype": "text/x-python",
      "name": "python",
      "nbconvert_exporter": "python",
      "pygments_lexer": "ipython3",
      "version": "3.9.13"
    },
    "colab": {
      "provenance": []
    }
  },
  "nbformat": 4,
  "nbformat_minor": 5
}