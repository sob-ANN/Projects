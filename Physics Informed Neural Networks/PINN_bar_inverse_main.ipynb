{
 "cells": [
  {
   "cell_type": "markdown",
   "id": "MVaR4b9-iu3L",
   "metadata": {
    "id": "MVaR4b9-iu3L"
   },
   "source": [
    "This file is the main file where we define the problem data, initiate model and train the model"
   ]
  },
  {
   "cell_type": "markdown",
   "id": "24f6ebHvjSap",
   "metadata": {
    "id": "24f6ebHvjSap"
   },
   "source": [
    "1. First we import all the relevant classes and libraries"
   ]
  },
  {
   "cell_type": "code",
   "execution_count": 46,
   "id": "w_l4adLOjGyJ",
   "metadata": {
    "id": "w_l4adLOjGyJ"
   },
   "outputs": [],
   "source": [
    "import torch\n",
    "import torch.nn as nn\n",
    "from torch.autograd import grad\n",
    "import math\n",
    "import matplotlib.pyplot as plt\n",
    "import numpy as np"
   ]
  },
  {
   "cell_type": "markdown",
   "id": "46a508ee",
   "metadata": {},
   "source": [
    "Custom function needed to generate training and testing data"
   ]
  },
  {
   "cell_type": "code",
   "execution_count": 47,
   "id": "a49dd9bc",
   "metadata": {},
   "outputs": [],
   "source": [
    "def generate_grid_1d(length, samples=20, initial_coordinate=0.0):\n",
    "    \"\"\"Generate an evenly space grid of a given length and a given number of samples.\"\"\"\n",
    "\n",
    "    # Generate the grid\n",
    "    x = torch.linspace(initial_coordinate, initial_coordinate + length, samples, requires_grad=True)\n",
    "\n",
    "    # Reshape on a column tensor and return\n",
    "    return x.view(samples, 1)"
   ]
  },
  {
   "cell_type": "markdown",
   "id": "-RcvGRwGjdLu",
   "metadata": {
    "id": "-RcvGRwGjdLu"
   },
   "source": [
    "2. Analytical 'u' is given"
   ]
  },
  {
   "cell_type": "code",
   "execution_count": 38,
   "id": "4ppF7bu2jsvd",
   "metadata": {
    "id": "4ppF7bu2jsvd"
   },
   "outputs": [],
   "source": [
    "L = 1\n",
    "x = generate_grid_1d(L, 20)\n",
    "u_analytic = lambda x: torch.sin(2*math.pi*x)\n",
    "u = u_analytic(x)\n",
    "x_test = generate_grid_1d(L, 100)"
   ]
  },
  {
   "cell_type": "markdown",
   "id": "ZXJmEzduTVfz",
   "metadata": {
    "id": "ZXJmEzduTVfz"
   },
   "source": [
    "Analytical inverse solution for validation"
   ]
  },
  {
   "cell_type": "code",
   "execution_count": 39,
   "id": "mo9j4BAoTWUk",
   "metadata": {
    "id": "mo9j4BAoTWUk"
   },
   "outputs": [],
   "source": [
    "EA_analytic = lambda x: x**3 - x**2 + 1"
   ]
  },
  {
   "cell_type": "markdown",
   "id": "aj1oXOV3j0oE",
   "metadata": {
    "id": "aj1oXOV3j0oE"
   },
   "source": [
    "3. Problem data are defined. Here the known data like boundary condition and loading conditions are defined"
   ]
  },
  {
   "cell_type": "code",
   "execution_count": 40,
   "id": "wixdAtJckJs0",
   "metadata": {
    "id": "wixdAtJckJs0"
   },
   "outputs": [],
   "source": [
    "distLoad = lambda x: -2*(3*x**2 - 2*x)*math.pi*torch.cos(2*math.pi*x) + 4*(x**3 - x**2 + 1)*math.pi**2*torch.sin(2*math.pi*x)"
   ]
  },
  {
   "cell_type": "markdown",
   "id": "b842be5e",
   "metadata": {},
   "source": [
    "## Main Function:"
   ]
  },
  {
   "cell_type": "code",
   "execution_count": 41,
   "id": "e87d9cf0",
   "metadata": {},
   "outputs": [],
   "source": [
    "def InversePhysicsInformedBarModel(x, x_test,u, L, distLoad):\n",
    "    \n",
    "\n",
    "    class NeuralNetwork(nn.Module):\n",
    "        def __init__(self):\n",
    "            super(NeuralNetwork, self).__init__()\n",
    "            self.hidden_layer = nn.Linear(2, 20)\n",
    "            self.activation = nn.Tanh()\n",
    "            self.output_layer = nn.Linear(20, 1)\n",
    "\n",
    "        def forward(self, x1,u):\n",
    "            x = torch.cat((x1, u), dim=1)\n",
    "            x = self.hidden_layer(x)\n",
    "            x = self.activation(x)\n",
    "            x = self.output_layer(x)\n",
    "            return x\n",
    "    model = NeuralNetwork()\n",
    "    EA = model.forward(x,u)\n",
    "    def loss_(x,u):\n",
    "        EA = model.forward(x,u)\n",
    "        dudx = grad(u,x,torch.ones_like(u), retain_graph=True, create_graph=True)[0]\n",
    "        d2udx2 = grad(EA*dudx, x, torch.ones_like(EA*dudx), retain_graph = True,create_graph=True )[0]\n",
    "        loss_fn = nn.MSELoss()\n",
    "        r = d2udx2 + distLoad(x)\n",
    "        loss = loss_fn(r, torch.zeros_like(r))\n",
    "        return loss\n",
    "    optimizer = torch.optim.Adam(params=model.parameters(), lr=0.01)\n",
    "    epochs = 1000\n",
    "    l = []\n",
    "    for epoch in range(epochs):\n",
    "        model.train()\n",
    "        optimizer.zero_grad()\n",
    "        loss = loss_(x,u)\n",
    "        l.append(loss.detach().numpy())\n",
    "        loss.backward(retain_graph=True)\n",
    "        optimizer.step()\n",
    "        model.eval()\n",
    "    \n",
    "        if epoch%50==0:\n",
    "            print(epoch,\"Loss: \" , loss.detach().numpy())\n",
    "    \n",
    "        \n",
    "    u_test = u_analytic(x_test)   \n",
    "    return model.forward(x_test,u_test),l\n",
    "    "
   ]
  },
  {
   "cell_type": "markdown",
   "id": "0622126b",
   "metadata": {},
   "source": [
    "4. Next we generate the neural network model using the imported class InversePhysicsInformedBarModel"
   ]
  },
  {
   "cell_type": "code",
   "execution_count": 42,
   "id": "f0e5869a",
   "metadata": {},
   "outputs": [
    {
     "name": "stdout",
     "output_type": "stream",
     "text": [
      "0 Loss:  661.79706\n",
      "50 Loss:  5.6106453\n",
      "100 Loss:  4.740133\n",
      "150 Loss:  4.3447704\n",
      "200 Loss:  4.003057\n",
      "250 Loss:  3.7171006\n",
      "300 Loss:  3.4771867\n",
      "350 Loss:  3.2678123\n",
      "400 Loss:  3.0707684\n",
      "450 Loss:  2.8656113\n",
      "500 Loss:  2.622804\n",
      "550 Loss:  2.282866\n",
      "600 Loss:  1.7459415\n",
      "650 Loss:  1.0029348\n",
      "700 Loss:  0.37300074\n",
      "750 Loss:  0.122259356\n",
      "800 Loss:  0.07146462\n",
      "850 Loss:  0.059212644\n",
      "900 Loss:  0.051989812\n",
      "950 Loss:  0.046388783\n"
     ]
    }
   ],
   "source": [
    "pinnModel,loss = InversePhysicsInformedBarModel(x,x_test, u, L, distLoad) # custom class defined in physicsinformed.py file"
   ]
  },
  {
   "cell_type": "markdown",
   "id": "c9e9da28",
   "metadata": {},
   "source": [
    "6. We generate sample test data using utilities library and then predict the displacements at those test points\n"
   ]
  },
  {
   "cell_type": "code",
   "execution_count": 43,
   "id": "bd6e7d14",
   "metadata": {},
   "outputs": [],
   "source": [
    "EA_Pred = pinnModel.detach().numpy()\n",
    "EA_True = EA_analytic(x_test).detach().numpy()"
   ]
  },
  {
   "cell_type": "markdown",
   "id": "af801540",
   "metadata": {},
   "source": [
    "7. We plot predicted coefficient (EA) at test points and also the training history"
   ]
  },
  {
   "cell_type": "code",
   "execution_count": 44,
   "id": "5e407abd",
   "metadata": {},
   "outputs": [
    {
     "data": {
      "text/plain": [
       "<matplotlib.legend.Legend at 0x19074f144c0>"
      ]
     },
     "execution_count": 44,
     "metadata": {},
     "output_type": "execute_result"
    },
    {
     "data": {
      "image/png": "[encoded data removed]",
      "text/plain": [
       "<Figure size 640x480 with 1 Axes>"
      ]
     },
     "metadata": {},
     "output_type": "display_data"
    }
   ],
   "source": [
    "l = np.linspace(0,1,100)\n",
    "\n",
    "plt.plot(l,EA_True, c='r', label = \"True EA\")\n",
    "plt.scatter(l, EA_Pred, s=10, c='black', label = \"Predicted EA\")\n",
    "plt.xlabel(\"x\")\n",
    "plt.ylabel(\"EA(x)\")\n",
    "plt.legend()"
   ]
  },
  {
   "cell_type": "code",
   "execution_count": 45,
   "id": "7d61e880",
   "metadata": {},
   "outputs": [
    {
     "data": {
      "text/plain": [
       "Text(0, 0.5, 'Loss')"
      ]
     },
     "execution_count": 45,
     "metadata": {},
     "output_type": "execute_result"
    },
    {
     "data": {
      "image/png": "[encoded data removed]",
      "text/plain": [
       "<Figure size 640x480 with 1 Axes>"
      ]
     },
     "metadata": {},
     "output_type": "display_data"
    }
   ],
   "source": [
    "plt.plot(np.arange(1,len(loss)+1,1),loss)\n",
    "plt.xlabel(\"Epochs\")\n",
    "plt.ylabel(\"Loss\")"
   ]
  },
  {
   "cell_type": "markdown",
   "id": "85bb6f47",
   "metadata": {},
   "source": [
    "I experimented with the optimizers and the hyperparameters associated with them and found this setting to work best for our problem"
   ]
  }
 ],
 "metadata": {
  "colab": {
   "name": "PINN_bar_inverse_main.ipynb",
   "provenance": []
  },
  "kernelspec": {
   "display_name": "Python 3 (ipykernel)",
   "language": "python",
   "name": "python3"
  },
  "language_info": {
   "codemirror_mode": {
    "name": "ipython",
    "version": 3
   },
   "file_extension": ".py",
   "mimetype": "text/x-python",
   "name": "python",
   "nbconvert_exporter": "python",
   "pygments_lexer": "ipython3",
   "version": "3.9.13"
  }
 },
 "nbformat": 4,
 "nbformat_minor": 5
}
