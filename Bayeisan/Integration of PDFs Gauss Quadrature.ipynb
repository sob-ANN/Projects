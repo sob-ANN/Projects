{
 "cells": [
  {
   "cell_type": "code",
   "execution_count": 1,
   "id": "fbb7d2d3",
   "metadata": {},
   "outputs": [],
   "source": [
    "import numpy as np\n",
    "from scipy.stats import norm\n",
    "import tensorflow as tf\n",
    "import tensorflow_probability as tfp\n",
    "tfd = tfp.distributions"
   ]
  },
  {
   "cell_type": "markdown",
   "id": "a071fffe",
   "metadata": {},
   "source": [
    "$\\int f(y|x) \\cdot \\text{Normal}(x|\\mu, \\Sigma) dx$ \\\n",
    "where $y = Ax$ \\\n",
    "$f(y|x) = y.y^T$\n",
    "\\\n",
    "We can write y|x because y is dependent on x(clearly)"
   ]
  },
  {
   "cell_type": "code",
   "execution_count": 2,
   "id": "1b415199",
   "metadata": {},
   "outputs": [],
   "source": [
    "mu = np.array([[1., 0., 1.5]])\n",
    "scale = np.eye(3)\n",
    "L = np.linalg.cholesky(scale)\n",
    "\n",
    "x_dist = tfd.MultivariateNormalTriL(loc = mu, scale_tril = L)\n"
   ]
  },
  {
   "cell_type": "code",
   "execution_count": 3,
   "id": "2fabf85a",
   "metadata": {},
   "outputs": [],
   "source": [
    "from numpy.polynomial.hermite_e import hermegauss\n",
    "from itertools import product"
   ]
  },
  {
   "cell_type": "code",
   "execution_count": 65,
   "id": "8bfb24c9",
   "metadata": {},
   "outputs": [
    {
     "data": {
      "text/plain": [
       "array([[1., 0., 0.],\n",
       "       [0., 4., 0.],\n",
       "       [0., 0., 2.]])"
      ]
     },
     "execution_count": 65,
     "metadata": {},
     "output_type": "execute_result"
    }
   ],
   "source": [
    "A = np.diag([1., 4, 2])\n",
    "A"
   ]
  },
  {
   "cell_type": "code",
   "execution_count": 76,
   "id": "c4ee41cc",
   "metadata": {},
   "outputs": [],
   "source": [
    "#p is pth Hermite Poly. n is order of Multivariate Normal Dist\n",
    "p = 2\n",
    "n = 3\n",
    "\n",
    "unit_sigma_points, hermite_weights = hermegauss(p)\n",
    "hermite_weights /= np.sum(hermite_weights)\n",
    "\n",
    "unit_sigma_points = np.array(list(product(*(unit_sigma_points for _ in range(n))))).T  # Cartesian product\n",
    "hermite_weights = np.array(list(product(*(hermite_weights for _ in range(n))))).prod(axis=1)"
   ]
  },
  {
   "cell_type": "code",
   "execution_count": 77,
   "id": "d6e475f4",
   "metadata": {},
   "outputs": [
    {
     "data": {
      "text/plain": [
       "(8,)"
      ]
     },
     "execution_count": 77,
     "metadata": {},
     "output_type": "execute_result"
    }
   ],
   "source": [
    "hermite_weights.shape #shape p^n"
   ]
  },
  {
   "cell_type": "code",
   "execution_count": 78,
   "id": "b9713ae8",
   "metadata": {},
   "outputs": [],
   "source": [
    "scaled_sigma = L @ unit_sigma_points + mu.T"
   ]
  },
  {
   "cell_type": "markdown",
   "id": "74cbd439",
   "metadata": {},
   "source": [
    "if f(.) = x. should get mean"
   ]
  },
  {
   "cell_type": "code",
   "execution_count": 79,
   "id": "b4276472",
   "metadata": {},
   "outputs": [
    {
     "data": {
      "text/plain": [
       "array([1. , 0. , 1.5])"
      ]
     },
     "execution_count": 79,
     "metadata": {},
     "output_type": "execute_result"
    }
   ],
   "source": [
    "np.dot(scaled_sigma, hermite_weights) #and we do."
   ]
  },
  {
   "cell_type": "markdown",
   "id": "32d1a5f2",
   "metadata": {},
   "source": [
    "$y = Ax_i$"
   ]
  },
  {
   "cell_type": "code",
   "execution_count": 80,
   "id": "080bf742",
   "metadata": {},
   "outputs": [],
   "source": [
    "y = A @ scaled_sigma\n"
   ]
  },
  {
   "cell_type": "code",
   "execution_count": 81,
   "id": "86da255c",
   "metadata": {},
   "outputs": [],
   "source": [
    "integ = hermite_weights *y @ y.T"
   ]
  },
  {
   "cell_type": "code",
   "execution_count": 82,
   "id": "adb2d242",
   "metadata": {},
   "outputs": [
    {
     "data": {
      "text/plain": [
       "array([[ 2.,  0.,  3.],\n",
       "       [ 0., 16.,  0.],\n",
       "       [ 3.,  0., 13.]])"
      ]
     },
     "execution_count": 82,
     "metadata": {},
     "output_type": "execute_result"
    }
   ],
   "source": [
    "integ"
   ]
  },
  {
   "cell_type": "markdown",
   "id": "911c75b9",
   "metadata": {},
   "source": [
    "$  \\mathbb{E}[A x x^T A^T]= A\\Sigma A^T + A\\mu \\mu^T A^T$"
   ]
  },
  {
   "cell_type": "code",
   "execution_count": 83,
   "id": "c42e7beb",
   "metadata": {},
   "outputs": [
    {
     "data": {
      "text/plain": [
       "array([[ 2.,  0.,  3.],\n",
       "       [ 0., 16.,  0.],\n",
       "       [ 3.,  0., 13.]])"
      ]
     },
     "execution_count": 83,
     "metadata": {},
     "output_type": "execute_result"
    }
   ],
   "source": [
    "closed_form = A @ scale @ A.T + A @ mu.T @ mu @ A.T\n",
    "closed_form"
   ]
  },
  {
   "cell_type": "markdown",
   "id": "15a48198",
   "metadata": {},
   "source": [
    "Just trying to do $ xx^T $. \\\n",
    "$\\int xx^T \\cdot \\text{Normal}(x|\\mu, \\Sigma) dx \\approx W_i (x_i x_i^T)$ \n"
   ]
  },
  {
   "cell_type": "code",
   "execution_count": 84,
   "id": "7720714f",
   "metadata": {},
   "outputs": [
    {
     "data": {
      "text/plain": [
       "array([[2.  , 0.  , 1.5 ],\n",
       "       [0.  , 1.  , 0.  ],\n",
       "       [1.5 , 0.  , 3.25]])"
      ]
     },
     "execution_count": 84,
     "metadata": {},
     "output_type": "execute_result"
    }
   ],
   "source": [
    "hermite_weights * scaled_sigma @ scaled_sigma.T"
   ]
  },
  {
   "cell_type": "markdown",
   "id": "262ceb0f",
   "metadata": {},
   "source": [
    "$  \\mathbb{E}[x.x^T]= \\Sigma + \\mu \\mu^T $"
   ]
  },
  {
   "cell_type": "code",
   "execution_count": 85,
   "id": "274d2397",
   "metadata": {},
   "outputs": [
    {
     "data": {
      "text/plain": [
       "array([[2.  , 0.  , 1.5 ],\n",
       "       [0.  , 1.  , 0.  ],\n",
       "       [1.5 , 0.  , 3.25]])"
      ]
     },
     "execution_count": 85,
     "metadata": {},
     "output_type": "execute_result"
    }
   ],
   "source": [
    "L + mu.T @ mu"
   ]
  },
  {
   "cell_type": "markdown",
   "id": "83d618dc",
   "metadata": {},
   "source": [
    "Using non-diagonal A"
   ]
  },
  {
   "cell_type": "code",
   "execution_count": 86,
   "id": "286b0fe8",
   "metadata": {},
   "outputs": [],
   "source": [
    "A = np.array([[1,2.,0],[0,1.,3], [1.2,3,7]])"
   ]
  },
  {
   "cell_type": "code",
   "execution_count": 87,
   "id": "46f7c8b4",
   "metadata": {},
   "outputs": [
    {
     "data": {
      "text/plain": [
       "array([[  6.  ,   6.5 ,  18.9 ],\n",
       "       [  6.5 ,  30.25,  76.65],\n",
       "       [ 18.9 ,  76.65, 196.33]])"
      ]
     },
     "execution_count": 87,
     "metadata": {},
     "output_type": "execute_result"
    }
   ],
   "source": [
    "y = A @ scaled_sigma\n",
    "\n",
    "integ = hermite_weights *y @ y.T\n",
    "integ"
   ]
  },
  {
   "cell_type": "code",
   "execution_count": 88,
   "id": "4bfbd54f",
   "metadata": {},
   "outputs": [
    {
     "data": {
      "text/plain": [
       "array([[  6.  ,   6.5 ,  18.9 ],\n",
       "       [  6.5 ,  30.25,  76.65],\n",
       "       [ 18.9 ,  76.65, 196.33]])"
      ]
     },
     "execution_count": 88,
     "metadata": {},
     "output_type": "execute_result"
    }
   ],
   "source": [
    "closed_form = A @ scale @ A.T + A @ mu.T @ mu @ A.T\n",
    "closed_form"
   ]
  },
  {
   "cell_type": "markdown",
   "id": "3ddbc8cb",
   "metadata": {},
   "source": [
    "Using non-square A matrix (2,3) size"
   ]
  },
  {
   "cell_type": "code",
   "execution_count": 89,
   "id": "1a256cf5",
   "metadata": {},
   "outputs": [],
   "source": [
    "A = np.array([[1., 2, 2], [1.,0., 4]])"
   ]
  },
  {
   "cell_type": "code",
   "execution_count": 90,
   "id": "6560aac1",
   "metadata": {},
   "outputs": [
    {
     "data": {
      "text/plain": [
       "array([[25., 37.],\n",
       "       [37., 66.]])"
      ]
     },
     "execution_count": 90,
     "metadata": {},
     "output_type": "execute_result"
    }
   ],
   "source": [
    "y = A @ scaled_sigma\n",
    "\n",
    "integ = hermite_weights *y @ y.T\n",
    "integ"
   ]
  },
  {
   "cell_type": "code",
   "execution_count": 91,
   "id": "6e5138f1",
   "metadata": {},
   "outputs": [
    {
     "data": {
      "text/plain": [
       "array([[25., 37.],\n",
       "       [37., 66.]])"
      ]
     },
     "execution_count": 91,
     "metadata": {},
     "output_type": "execute_result"
    }
   ],
   "source": [
    "closed_form = A @ scale @ A.T + A @ mu.T @ mu @ A.T\n",
    "closed_form"
   ]
  },
  {
   "cell_type": "code",
   "execution_count": null,
   "id": "d1cd6774",
   "metadata": {},
   "outputs": [],
   "source": []
  },
  {
   "cell_type": "code",
   "execution_count": null,
   "id": "cb7035cd",
   "metadata": {},
   "outputs": [],
   "source": []
  },
  {
   "cell_type": "code",
   "execution_count": null,
   "id": "b5b7c1b6",
   "metadata": {},
   "outputs": [],
   "source": []
  }
 ],
 "metadata": {
  "kernelspec": {
   "display_name": "Python 3 (ipykernel)",
   "language": "python",
   "name": "python3"
  },
  "language_info": {
   "codemirror_mode": {
    "name": "ipython",
    "version": 3
   },
   "file_extension": ".py",
   "mimetype": "text/x-python",
   "name": "python",
   "nbconvert_exporter": "python",
   "pygments_lexer": "ipython3",
   "version": "3.9.13"
  }
 },
 "nbformat": 4,
 "nbformat_minor": 5
}
